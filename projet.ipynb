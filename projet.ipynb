{
 "cells": [
  {
   "cell_type": "markdown",
   "id": "ed809a1c",
   "metadata": {},
   "source": [
    "### **TF-IDF**\n",
    "## **Naive Bayes**"
   ]
  },
  {
   "cell_type": "code",
   "execution_count": 45,
   "id": "6861c3a0",
   "metadata": {},
   "outputs": [
    {
     "name": "stderr",
     "output_type": "stream",
     "text": [
      "[nltk_data] Downloading package stopwords to /home/tp-\n",
      "[nltk_data]     home009/bberken/nltk_data...\n",
      "[nltk_data]   Package stopwords is already up-to-date!\n",
      "[nltk_data] Downloading package wordnet to /home/tp-\n",
      "[nltk_data]     home009/bberken/nltk_data...\n",
      "[nltk_data]   Package wordnet is already up-to-date!\n",
      "[nltk_data] Downloading package omw-1.4 to /home/tp-\n",
      "[nltk_data]     home009/bberken/nltk_data...\n",
      "[nltk_data]   Package omw-1.4 is already up-to-date!\n"
     ]
    }
   ],
   "source": [
    "import numpy as np\n",
    "import matplotlib.pyplot as plt\n",
    "import pandas as pd\n",
    "import seaborn as sn\n",
    "import re\n",
    "import nltk\n",
    "nltk.download('stopwords')\n",
    "nltk.download('wordnet')\n",
    "nltk.download('omw-1.4')\n",
    "from nltk.corpus import stopwords\n",
    "from nltk.stem import WordNetLemmatizer\n"
   ]
  },
  {
   "cell_type": "markdown",
   "id": "1d12f80e",
   "metadata": {},
   "source": [
    "## **Open and load the data set**"
   ]
  },
  {
   "cell_type": "code",
   "execution_count": 46,
   "id": "531e19e7",
   "metadata": {},
   "outputs": [],
   "source": [
    "\n",
    "\n",
    "df = pd.read_csv(\"spam_ham_dataset.csv\")\n",
    "\n",
    "\n"
   ]
  },
  {
   "cell_type": "markdown",
   "id": "300ba3fc",
   "metadata": {},
   "source": [
    "## **ham/spam repartition**"
   ]
  },
  {
   "cell_type": "code",
   "execution_count": 47,
   "id": "08a2580d",
   "metadata": {},
   "outputs": [
    {
     "name": "stderr",
     "output_type": "stream",
     "text": [
      "/home/tp-home009/bberken/.local/lib/python3.8/site-packages/seaborn/_decorators.py:36: FutureWarning: Pass the following variable as a keyword arg: x. From version 0.12, the only valid positional argument will be `data`, and passing other arguments without an explicit keyword will result in an error or misinterpretation.\n",
      "  warnings.warn(\n"
     ]
    },
    {
     "data": {
      "text/plain": [
       "<matplotlib.axes._subplots.AxesSubplot at 0x7fc744f13490>"
      ]
     },
     "execution_count": 47,
     "metadata": {},
     "output_type": "execute_result"
    },
    {
     "data": {
      "image/png": "[encoded data removed]",
      "text/plain": [
       "<Figure size 432x288 with 1 Axes>"
      ]
     },
     "metadata": {
      "needs_background": "light"
     },
     "output_type": "display_data"
    }
   ],
   "source": [
    "sn.countplot(df[\"label\"])"
   ]
  },
  {
   "cell_type": "markdown",
   "id": "496684be",
   "metadata": {},
   "source": [
    "## **Data set size**"
   ]
  },
  {
   "cell_type": "code",
   "execution_count": 48,
   "id": "9ae0cb34",
   "metadata": {},
   "outputs": [
    {
     "data": {
      "text/plain": [
       "(5171, 4)"
      ]
     },
     "execution_count": 48,
     "metadata": {},
     "output_type": "execute_result"
    }
   ],
   "source": [
    "df.shape"
   ]
  },
  {
   "cell_type": "markdown",
   "id": "7abfc3aa",
   "metadata": {},
   "source": [
    "## **View Exemple of data** "
   ]
  },
  {
   "cell_type": "code",
   "execution_count": 49,
   "id": "f7a2eb6c",
   "metadata": {},
   "outputs": [
    {
     "data": {
      "text/plain": [
       "id                                                         605\n",
       "label                                                      ham\n",
       "text         Subject: enron methanol ; meter # : 988291\\nth...\n",
       "label_num                                                    0\n",
       "Name: 0, dtype: object"
      ]
     },
     "execution_count": 49,
     "metadata": {},
     "output_type": "execute_result"
    }
   ],
   "source": [
    "df.iloc[0]"
   ]
  },
  {
   "cell_type": "markdown",
   "id": "ee92de6c",
   "metadata": {},
   "source": [
    "### **Message content of the above element**"
   ]
  },
  {
   "cell_type": "code",
   "execution_count": 50,
   "id": "1eba8903",
   "metadata": {},
   "outputs": [
    {
     "data": {
      "text/plain": [
       "\"Subject: enron methanol ; meter # : 988291\\nthis is a follow up to the note i gave you on monday , 4 / 3 / 00 { preliminary\\nflow data provided by daren } .\\nplease override pop ' s daily volume { presently zero } to reflect daily\\nactivity you can obtain from gas control .\\nthis change is needed asap for economics purposes .\""
      ]
     },
     "execution_count": 50,
     "metadata": {},
     "output_type": "execute_result"
    }
   ],
   "source": [
    "\n",
    "df.iloc[0][\"text\"]"
   ]
  },
  {
   "cell_type": "markdown",
   "id": "7f910375",
   "metadata": {},
   "source": [
    "## **Remove unnecessary columns**"
   ]
  },
  {
   "cell_type": "code",
   "execution_count": 51,
   "id": "12225946",
   "metadata": {},
   "outputs": [],
   "source": [
    "df.drop(\"id\",axis=1,inplace=True)\n",
    "df.drop(\"label\",axis=1,inplace=True)\n",
    "\n"
   ]
  },
  {
   "cell_type": "markdown",
   "id": "6261220f",
   "metadata": {},
   "source": [
    "### **Remaining attribute of the datafram**"
   ]
  },
  {
   "cell_type": "code",
   "execution_count": 52,
   "id": "299e281b",
   "metadata": {},
   "outputs": [
    {
     "data": {
      "text/html": [
       "<div>\n",
       "<style scoped>\n",
       "    .dataframe tbody tr th:only-of-type {\n",
       "        vertical-align: middle;\n",
       "    }\n",
       "\n",
       "    .dataframe tbody tr th {\n",
       "        vertical-align: top;\n",
       "    }\n",
       "\n",
       "    .dataframe thead th {\n",
       "        text-align: right;\n",
       "    }\n",
       "</style>\n",
       "<table border=\"1\" class=\"dataframe\">\n",
       "  <thead>\n",
       "    <tr style=\"text-align: right;\">\n",
       "      <th></th>\n",
       "      <th>text</th>\n",
       "      <th>label_num</th>\n",
       "    </tr>\n",
       "  </thead>\n",
       "  <tbody>\n",
       "    <tr>\n",
       "      <th>0</th>\n",
       "      <td>Subject: enron methanol ; meter # : 988291\\nth...</td>\n",
       "      <td>0</td>\n",
       "    </tr>\n",
       "    <tr>\n",
       "      <th>1</th>\n",
       "      <td>Subject: hpl nom for january 9 , 2001\\n( see a...</td>\n",
       "      <td>0</td>\n",
       "    </tr>\n",
       "    <tr>\n",
       "      <th>2</th>\n",
       "      <td>Subject: neon retreat\\nho ho ho , we ' re arou...</td>\n",
       "      <td>0</td>\n",
       "    </tr>\n",
       "    <tr>\n",
       "      <th>3</th>\n",
       "      <td>Subject: photoshop , windows , office . cheap ...</td>\n",
       "      <td>1</td>\n",
       "    </tr>\n",
       "    <tr>\n",
       "      <th>4</th>\n",
       "      <td>Subject: re : indian springs\\nthis deal is to ...</td>\n",
       "      <td>0</td>\n",
       "    </tr>\n",
       "    <tr>\n",
       "      <th>...</th>\n",
       "      <td>...</td>\n",
       "      <td>...</td>\n",
       "    </tr>\n",
       "    <tr>\n",
       "      <th>5166</th>\n",
       "      <td>Subject: put the 10 on the ft\\nthe transport v...</td>\n",
       "      <td>0</td>\n",
       "    </tr>\n",
       "    <tr>\n",
       "      <th>5167</th>\n",
       "      <td>Subject: 3 / 4 / 2000 and following noms\\nhpl ...</td>\n",
       "      <td>0</td>\n",
       "    </tr>\n",
       "    <tr>\n",
       "      <th>5168</th>\n",
       "      <td>Subject: calpine daily gas nomination\\n&gt;\\n&gt;\\nj...</td>\n",
       "      <td>0</td>\n",
       "    </tr>\n",
       "    <tr>\n",
       "      <th>5169</th>\n",
       "      <td>Subject: industrial worksheets for august 2000...</td>\n",
       "      <td>0</td>\n",
       "    </tr>\n",
       "    <tr>\n",
       "      <th>5170</th>\n",
       "      <td>Subject: important online banking alert\\ndear ...</td>\n",
       "      <td>1</td>\n",
       "    </tr>\n",
       "  </tbody>\n",
       "</table>\n",
       "<p>5171 rows × 2 columns</p>\n",
       "</div>"
      ],
      "text/plain": [
       "                                                   text  label_num\n",
       "0     Subject: enron methanol ; meter # : 988291\\nth...          0\n",
       "1     Subject: hpl nom for january 9 , 2001\\n( see a...          0\n",
       "2     Subject: neon retreat\\nho ho ho , we ' re arou...          0\n",
       "3     Subject: photoshop , windows , office . cheap ...          1\n",
       "4     Subject: re : indian springs\\nthis deal is to ...          0\n",
       "...                                                 ...        ...\n",
       "5166  Subject: put the 10 on the ft\\nthe transport v...          0\n",
       "5167  Subject: 3 / 4 / 2000 and following noms\\nhpl ...          0\n",
       "5168  Subject: calpine daily gas nomination\\n>\\n>\\nj...          0\n",
       "5169  Subject: industrial worksheets for august 2000...          0\n",
       "5170  Subject: important online banking alert\\ndear ...          1\n",
       "\n",
       "[5171 rows x 2 columns]"
      ]
     },
     "execution_count": 52,
     "metadata": {},
     "output_type": "execute_result"
    }
   ],
   "source": [
    "df"
   ]
  },
  {
   "cell_type": "markdown",
   "id": "93037a31",
   "metadata": {},
   "source": [
    "## **Data Cleaning**\n",
    "#### 1. *Remove Syntax*\n",
    "#### 2. *Lowering Case*\n",
    "#### 3. *Split Into An Array Of Word*\n",
    "#### 4. *Remove StopWords*"
   ]
  },
  {
   "cell_type": "code",
   "execution_count": 53,
   "id": "759968d7",
   "metadata": {},
   "outputs": [],
   "source": [
    "\n",
    "\n",
    "from nltk.stem.porter import PorterStemmer\n",
    "\n",
    "ps = PorterStemmer()\n",
    "lm = WordNetLemmatizer() \n",
    "corpus = []\n",
    "for i in range(0, len(df[\"text\"])):\n",
    "    review = re.sub('[^a-zA-Z]', ' ',df[\"text\"][i])\n",
    "    review = review.lower()\n",
    "    review = review.split()\n",
    "    review = [lm.lemmatize(word) for word in review if not word in stopwords.words('english')]\n",
    "    review = ' '.join(review)\n",
    "\n",
    "    corpus.append(review)"
   ]
  },
  {
   "cell_type": "markdown",
   "id": "46bacfdf",
   "metadata": {},
   "source": [
    "### **TfidfVectorizer application on the corpus**"
   ]
  },
  {
   "cell_type": "code",
   "execution_count": 54,
   "id": "1e5d8823",
   "metadata": {},
   "outputs": [],
   "source": [
    "from sklearn.feature_extraction.text import TfidfVectorizer\n",
    "cv = TfidfVectorizer()\n",
    "X = cv.fit_transform(corpus).toarray()\n"
   ]
  },
  {
   "cell_type": "markdown",
   "id": "4714f5d3",
   "metadata": {},
   "source": [
    "# **resampling**"
   ]
  },
  {
   "cell_type": "markdown",
   "id": "7e5b283c",
   "metadata": {},
   "source": [
    "Comme on a travaille sur des données désiquilibrées : \n",
    " * on appliquera sur nos données des méthodes de rééchantillonnage  : \n",
    "   * Sur-échantillonnage : Oversampling  qui consiste à augmenter le nombre d’observations de \n",
    "   la (des) classe(s) minoritaire(s) afin d’arriver à un ratio classe minoritaire/ classe majoritaire satisfaisant.\n",
    "   * Sous-échantillonnage : Undersampling  qui consiste à diminuer  diminuant le nombre d’observations de la  (des) classe(s) majoritaire(s) afin d’arriver à un ratio classe minoritaire/ classe majoritaire satisfaisant. \n",
    "   * Génération d’échantillons synthétiques : qui consiste à générer des échantillons synthétiques de manière automatique et la également on distingue deux type d'algorithmes  :  \n",
    "     * Les algorithmes de sur-échantillonnage en créant des échantillons synthétiques à partir de la classe minoritaire au lieu de créer de simples copies.\n",
    "     * Les algorithmes de Sous-échantillonnage en générant un certain nombre de centroïdes à partir des données d’origine, afin de perdre le moins d’information possible sur la classe majoritaire, lorsque celle-ci doit être réduite afin d’arriver à un ratio classe minoritaire/ classe majoritaire satisfaisant. \n",
    "   "
   ]
  },
  {
   "cell_type": "markdown",
   "id": "b124d5e7",
   "metadata": {},
   "source": [
    "### **The generation of synthetic samples**\n",
    "   * Synthetic Oversampling"
   ]
  },
  {
   "cell_type": "code",
   "execution_count": 55,
   "id": "d2ef694c",
   "metadata": {},
   "outputs": [
    {
     "name": "stdout",
     "output_type": "stream",
     "text": [
      "taille de x_bal :  7342\n",
      "taille de y_bal :  7342\n"
     ]
    }
   ],
   "source": [
    "\n",
    "from imblearn.combine import SMOTETomek \n",
    "smk= SMOTETomek()\n",
    "\n",
    "X_SO, Y_SO = smk.fit_resample(X,df[\"label_num\"])\n",
    "print (\"taille de x_bal : \",len(X_SO))\n",
    "print (\"taille de y_bal : \",len(Y_SO))"
   ]
  },
  {
   "cell_type": "markdown",
   "id": "cfffb99a",
   "metadata": {},
   "source": [
    "* Synthetic undersampling"
   ]
  },
  {
   "cell_type": "code",
   "execution_count": 56,
   "id": "f8359dcc",
   "metadata": {},
   "outputs": [
    {
     "data": {
      "text/plain": [
       "'from imblearn.under_sampling import ClusterCentroids \\ncc = ClusterCentroids()\\n\\nX_SU, Y_SU = cc.fit_resample(X,df[\"label_num\"])\\nprint (\"taille de x_bal : \",len(X_SU))\\nprint (\"taille de y_bal : \",len(Y_SU))'"
      ]
     },
     "execution_count": 56,
     "metadata": {},
     "output_type": "execute_result"
    }
   ],
   "source": [
    "'''from imblearn.under_sampling import ClusterCentroids \n",
    "cc = ClusterCentroids()\n",
    "\n",
    "X_SU, Y_SU = cc.fit_resample(X,df[\"label_num\"])\n",
    "print (\"taille de x_bal : \",len(X_SU))\n",
    "print (\"taille de y_bal : \",len(Y_SU))'''"
   ]
  },
  {
   "cell_type": "markdown",
   "id": "f2161f4e",
   "metadata": {},
   "source": [
    "### **classique Resampling**\n",
    "   * Oversampling"
   ]
  },
  {
   "cell_type": "code",
   "execution_count": 57,
   "id": "618196a9",
   "metadata": {},
   "outputs": [
    {
     "name": "stdout",
     "output_type": "stream",
     "text": [
      "taille de x_bal :  7344\n",
      "taille de y_bal :  7344\n"
     ]
    }
   ],
   "source": [
    "from imblearn.over_sampling import RandomOverSampler \n",
    "ros = RandomOverSampler()\n",
    "X_CO, Y_CO = ros.fit_resample(X,df[\"label_num\"])\n",
    "\n",
    "print (\"taille de x_bal : \",len(X_CO))\n",
    "print (\"taille de y_bal : \",len(Y_CO))"
   ]
  },
  {
   "cell_type": "markdown",
   "id": "874fed4c",
   "metadata": {},
   "source": [
    " * Undersampling"
   ]
  },
  {
   "cell_type": "code",
   "execution_count": 58,
   "id": "ea65d5e6",
   "metadata": {},
   "outputs": [
    {
     "name": "stdout",
     "output_type": "stream",
     "text": [
      "taille de x_bal :  2998\n",
      "taille de y_bal :  2998\n"
     ]
    }
   ],
   "source": [
    "from imblearn.under_sampling import RandomUnderSampler \n",
    "rus = RandomUnderSampler()\n",
    "X_CU, Y_CU = rus.fit_resample(X,df[\"label_num\"])\n",
    "\n",
    "print (\"taille de x_bal : \",len(X_CU))\n",
    "print (\"taille de y_bal : \",len(Y_CU))"
   ]
  },
  {
   "cell_type": "markdown",
   "id": "78bd888f",
   "metadata": {},
   "source": [
    "## **Train set / Test set split**"
   ]
  },
  {
   "cell_type": "code",
   "execution_count": 59,
   "id": "e086f55c",
   "metadata": {},
   "outputs": [],
   "source": [
    "from sklearn.model_selection import train_test_split\n",
    "\n",
    "X_train_SO, X_test_SO, y_train_SO, y_test_SO = train_test_split(X_SO, Y_SO, test_size = 0.20, random_state = 0)\n",
    "\n",
    "X_train_CO, X_test_CO, y_train_CO, y_test_CO = train_test_split(X_CO, Y_CO, test_size = 0.20, random_state = 0)\n",
    "\n",
    "X_train_CU, X_test_CU, y_train_CU, y_test_CU = train_test_split(X_CU, Y_CU, test_size = 0.20, random_state = 0)\n",
    "\n"
   ]
  },
  {
   "cell_type": "markdown",
   "id": "600d6ff2",
   "metadata": {},
   "source": [
    "## **MultinomialNB fitting**"
   ]
  },
  {
   "cell_type": "markdown",
   "id": "6055831c",
   "metadata": {},
   "source": [
    "  * Fititing with Synthetic Oversampling data"
   ]
  },
  {
   "cell_type": "code",
   "execution_count": 63,
   "id": "363be0ae",
   "metadata": {},
   "outputs": [
    {
     "data": {
      "text/plain": [
       "MultinomialNB()"
      ]
     },
     "execution_count": 63,
     "metadata": {},
     "output_type": "execute_result"
    }
   ],
   "source": [
    "from sklearn.naive_bayes import MultinomialNB\n",
    "model_SO = MultinomialNB()\n",
    "model_CO = MultinomialNB()\n",
    "model_CU = MultinomialNB()\n",
    "\n",
    "model_SO.fit(X_train_SO,y_train_SO)\n",
    "\n"
   ]
  },
  {
   "cell_type": "markdown",
   "id": "6cb162c7",
   "metadata": {},
   "source": [
    "  * Fititing with Classique Oversampling data"
   ]
  },
  {
   "cell_type": "code",
   "execution_count": 64,
   "id": "8f404601",
   "metadata": {},
   "outputs": [
    {
     "data": {
      "text/plain": [
       "MultinomialNB()"
      ]
     },
     "execution_count": 64,
     "metadata": {},
     "output_type": "execute_result"
    }
   ],
   "source": [
    "model_CO.fit(X_train_CO,y_train_CO)"
   ]
  },
  {
   "cell_type": "markdown",
   "id": "4c4b30d9",
   "metadata": {},
   "source": [
    "  * Fititing with Classique Undersampling data"
   ]
  },
  {
   "cell_type": "code",
   "execution_count": 65,
   "id": "e2d4ad37",
   "metadata": {},
   "outputs": [
    {
     "data": {
      "text/plain": [
       "MultinomialNB()"
      ]
     },
     "execution_count": 65,
     "metadata": {},
     "output_type": "execute_result"
    }
   ],
   "source": [
    "model_CU.fit(X_train_CU,y_train_CU)"
   ]
  },
  {
   "cell_type": "markdown",
   "id": "7209f38f",
   "metadata": {},
   "source": [
    "## **MultinomialNB Prediction**"
   ]
  },
  {
   "cell_type": "markdown",
   "id": "7b3ac9e7",
   "metadata": {},
   "source": [
    "* Prediction with Synthetic Oversampling data"
   ]
  },
  {
   "cell_type": "code",
   "execution_count": 67,
   "id": "d8a86bfc",
   "metadata": {},
   "outputs": [],
   "source": [
    "y_pred_SO=model_SO.predict(X_test_SO)"
   ]
  },
  {
   "cell_type": "markdown",
   "id": "a1374e50",
   "metadata": {},
   "source": [
    "* Prediction with Classique Oversampling data"
   ]
  },
  {
   "cell_type": "code",
   "execution_count": 68,
   "id": "57dfce31",
   "metadata": {},
   "outputs": [],
   "source": [
    "y_pred_CO=model_CO.predict(X_test_CO)"
   ]
  },
  {
   "cell_type": "markdown",
   "id": "2d504b68",
   "metadata": {},
   "source": [
    "* Prediction with Classique Undersampling data"
   ]
  },
  {
   "cell_type": "code",
   "execution_count": 69,
   "id": "34c85182",
   "metadata": {},
   "outputs": [],
   "source": [
    "y_pred_CU=model_CU.predict(X_test_CU)"
   ]
  },
  {
   "cell_type": "markdown",
   "id": "58b2c10f",
   "metadata": {},
   "source": [
    "## **Results**\n",
    "   "
   ]
  },
  {
   "cell_type": "code",
   "execution_count": 70,
   "id": "891ef649",
   "metadata": {},
   "outputs": [
    {
     "name": "stdout",
     "output_type": "stream",
     "text": [
      "Accuracy score for prediction with data resulting by Synthetic Oversampling data\n",
      " 0.9795779441797141\n",
      "Accuracy score:for prediction with data resulting by Classique Oversampling data\n",
      " 0.9693669162695712\n",
      "Accuracy score:for prediction with data resulting by Classique Undersampling data\n",
      " 0.9616666666666667\n"
     ]
    }
   ],
   "source": [
    "\n",
    "from sklearn.metrics import confusion_matrix,accuracy_score\n",
    "\n",
    "print(\"Accuracy score for prediction with data resulting by Synthetic Oversampling data\\n\",accuracy_score(y_pred_SO,y_test_SO))\n",
    "print(\"Accuracy score:for prediction with data resulting by Classique Oversampling data\\n\",accuracy_score(y_pred_CO,y_test_CO))\n",
    "print(\"Accuracy score:for prediction with data resulting by Classique Undersampling data\\n\",accuracy_score(y_pred_CU,y_test_CU))\n"
   ]
  },
  {
   "cell_type": "markdown",
   "id": "0a6426bc",
   "metadata": {},
   "source": [
    "  * Confusion matrix  "
   ]
  },
  {
   "cell_type": "code",
   "execution_count": 71,
   "id": "dd24c0e3",
   "metadata": {},
   "outputs": [
    {
     "data": {
      "image/png": "[encoded data removed]",
      "text/plain": [
       "<Figure size 432x288 with 2 Axes>"
      ]
     },
     "metadata": {
      "needs_background": "light"
     },
     "output_type": "display_data"
    },
    {
     "data": {
      "image/png": "[encoded data removed]",
      "text/plain": [
       "<Figure size 432x288 with 2 Axes>"
      ]
     },
     "metadata": {
      "needs_background": "light"
     },
     "output_type": "display_data"
    },
    {
     "data": {
      "image/png": "[encoded data removed]",
      "text/plain": [
       "<Figure size 432x288 with 2 Axes>"
      ]
     },
     "metadata": {
      "needs_background": "light"
     },
     "output_type": "display_data"
    }
   ],
   "source": [
    "data = {'y_Actual':    y_test_SO.values,\n",
    "        'y_Predicted': y_pred_SO\n",
    "        }\n",
    "d = pd.DataFrame(data, columns=['y_Actual','y_Predicted'])\n",
    "confusion_matrix = pd.crosstab(d['y_Actual'], d['y_Predicted'], rownames=['True Label'], colnames=['Predicted Label'])\n",
    "sn.heatmap(confusion_matrix, annot=True,fmt='d',xticklabels=['ham','spam'], yticklabels=['ham','spam'])\n",
    "plt.show()\n",
    "\n",
    "data = {'y_Actual':    y_test_CO.values,\n",
    "        'y_Predicted': y_pred_CO\n",
    "        }\n",
    "d = pd.DataFrame(data, columns=['y_Actual','y_Predicted'])\n",
    "confusion_matrix = pd.crosstab(d['y_Actual'], d['y_Predicted'], rownames=['True Label'], colnames=['Predicted Label'])\n",
    "sn.heatmap(confusion_matrix, annot=True,fmt='d',xticklabels=['ham','spam'], yticklabels=['ham','spam'])\n",
    "plt.show()\n",
    "\n",
    "\n",
    "data = {'y_Actual':    y_test_CU.values,\n",
    "        'y_Predicted': y_pred_CU\n",
    "        }\n",
    "d = pd.DataFrame(data, columns=['y_Actual','y_Predicted'])\n",
    "confusion_matrix = pd.crosstab(d['y_Actual'], d['y_Predicted'], rownames=['True Label'], colnames=['Predicted Label'])\n",
    "sn.heatmap(confusion_matrix, annot=True,fmt='d',xticklabels=['ham','spam'], yticklabels=['ham','spam'])\n",
    "plt.show()"
   ]
  },
  {
   "cell_type": "code",
   "execution_count": null,
   "id": "a3aac163",
   "metadata": {},
   "outputs": [],
   "source": []
  },
  {
   "cell_type": "code",
   "execution_count": null,
   "id": "cf25088f",
   "metadata": {},
   "outputs": [],
   "source": []
  },
  {
   "cell_type": "code",
   "execution_count": null,
   "id": "a84a205f",
   "metadata": {},
   "outputs": [],
   "source": []
  },
  {
   "cell_type": "code",
   "execution_count": null,
   "id": "d811d88e",
   "metadata": {},
   "outputs": [],
   "source": []
  },
  {
   "cell_type": "code",
   "execution_count": null,
   "id": "4202307b",
   "metadata": {},
   "outputs": [],
   "source": []
  },
  {
   "cell_type": "code",
   "execution_count": null,
   "id": "aa609240",
   "metadata": {},
   "outputs": [],
   "source": []
  },
  {
   "cell_type": "code",
   "execution_count": null,
   "id": "61a77af9",
   "metadata": {},
   "outputs": [],
   "source": []
  },
  {
   "cell_type": "markdown",
   "id": "6a72b659",
   "metadata": {},
   "source": [
    "## **Vectorization**"
   ]
  },
  {
   "cell_type": "code",
   "execution_count": 8,
   "id": "cf3a9848",
   "metadata": {},
   "outputs": [],
   "source": [
    "from sklearn.feature_extraction.text import CountVectorizer"
   ]
  },
  {
   "cell_type": "code",
   "execution_count": 9,
   "id": "445eba8b",
   "metadata": {},
   "outputs": [],
   "source": [
    "data = df.copy()\n",
    "data.columns = ['message','label' ]\n"
   ]
  },
  {
   "cell_type": "code",
   "execution_count": 10,
   "id": "eb03f677",
   "metadata": {},
   "outputs": [
    {
     "data": {
      "text/html": [
       "<div>\n",
       "<style scoped>\n",
       "    .dataframe tbody tr th:only-of-type {\n",
       "        vertical-align: middle;\n",
       "    }\n",
       "\n",
       "    .dataframe tbody tr th {\n",
       "        vertical-align: top;\n",
       "    }\n",
       "\n",
       "    .dataframe thead th {\n",
       "        text-align: right;\n",
       "    }\n",
       "</style>\n",
       "<table border=\"1\" class=\"dataframe\">\n",
       "  <thead>\n",
       "    <tr style=\"text-align: right;\">\n",
       "      <th></th>\n",
       "      <th>message</th>\n",
       "      <th>label</th>\n",
       "      <th>length</th>\n",
       "    </tr>\n",
       "  </thead>\n",
       "  <tbody>\n",
       "    <tr>\n",
       "      <th>949</th>\n",
       "      <td>Subject: fw : \" red , white and blue out \"\\n- ...</td>\n",
       "      <td>0</td>\n",
       "      <td>31860</td>\n",
       "    </tr>\n",
       "    <tr>\n",
       "      <th>1988</th>\n",
       "      <td>Subject: online pharxmacy 80 % off all meds\\nd...</td>\n",
       "      <td>1</td>\n",
       "      <td>21749</td>\n",
       "    </tr>\n",
       "    <tr>\n",
       "      <th>4287</th>\n",
       "      <td>Subject: the expatriate zone - issue # 1 2 / 1...</td>\n",
       "      <td>0</td>\n",
       "      <td>16061</td>\n",
       "    </tr>\n",
       "    <tr>\n",
       "      <th>3560</th>\n",
       "      <td>Subject: fw : thought this was important\\nbamm...</td>\n",
       "      <td>0</td>\n",
       "      <td>15999</td>\n",
       "    </tr>\n",
       "    <tr>\n",
       "      <th>4792</th>\n",
       "      <td>Subject: we ' ve got your info by internet , h...</td>\n",
       "      <td>1</td>\n",
       "      <td>14460</td>\n",
       "    </tr>\n",
       "    <tr>\n",
       "      <th>4903</th>\n",
       "      <td>Subject: re : coastal oil &amp; gas corporation\\nm...</td>\n",
       "      <td>0</td>\n",
       "      <td>13178</td>\n",
       "    </tr>\n",
       "    <tr>\n",
       "      <th>2935</th>\n",
       "      <td>Subject: re : coastal oil &amp; gas corporation\\nd...</td>\n",
       "      <td>0</td>\n",
       "      <td>13170</td>\n",
       "    </tr>\n",
       "    <tr>\n",
       "      <th>828</th>\n",
       "      <td>Subject: re : coastal oil &amp; gas corporation\\nd...</td>\n",
       "      <td>0</td>\n",
       "      <td>12830</td>\n",
       "    </tr>\n",
       "    <tr>\n",
       "      <th>3514</th>\n",
       "      <td>Subject: free profiles you choose derm\\nhtmlhe...</td>\n",
       "      <td>1</td>\n",
       "      <td>11932</td>\n",
       "    </tr>\n",
       "    <tr>\n",
       "      <th>4249</th>\n",
       "      <td>Subject: re : sitara release ( re : changes in...</td>\n",
       "      <td>0</td>\n",
       "      <td>11585</td>\n",
       "    </tr>\n",
       "  </tbody>\n",
       "</table>\n",
       "</div>"
      ],
      "text/plain": [
       "                                                message  label  length\n",
       "949   Subject: fw : \" red , white and blue out \"\\n- ...      0   31860\n",
       "1988  Subject: online pharxmacy 80 % off all meds\\nd...      1   21749\n",
       "4287  Subject: the expatriate zone - issue # 1 2 / 1...      0   16061\n",
       "3560  Subject: fw : thought this was important\\nbamm...      0   15999\n",
       "4792  Subject: we ' ve got your info by internet , h...      1   14460\n",
       "4903  Subject: re : coastal oil & gas corporation\\nm...      0   13178\n",
       "2935  Subject: re : coastal oil & gas corporation\\nd...      0   13170\n",
       "828   Subject: re : coastal oil & gas corporation\\nd...      0   12830\n",
       "3514  Subject: free profiles you choose derm\\nhtmlhe...      1   11932\n",
       "4249  Subject: re : sitara release ( re : changes in...      0   11585"
      ]
     },
     "execution_count": 10,
     "metadata": {},
     "output_type": "execute_result"
    }
   ],
   "source": [
    "data[\"length\"] = data[\"message\"].apply(len)\n",
    "data.sort_values(by='length', ascending=False).head(10)"
   ]
  },
  {
   "cell_type": "code",
   "execution_count": 11,
   "id": "e50eb318",
   "metadata": {},
   "outputs": [
    {
     "data": {
      "text/plain": [
       "array([<matplotlib.axes._subplots.AxesSubplot object at 0x7f7eed57b910>,\n",
       "       <matplotlib.axes._subplots.AxesSubplot object at 0x7f7eed534eb0>],\n",
       "      dtype=object)"
      ]
     },
     "execution_count": 11,
     "metadata": {},
     "output_type": "execute_result"
    },
    {
     "data": {
      "image/png": "[encoded data removed]",
      "text/plain": [
       "<Figure size 864x288 with 2 Axes>"
      ]
     },
     "metadata": {
      "needs_background": "light"
     },
     "output_type": "display_data"
    }
   ],
   "source": [
    "data.hist(column = 'length', by ='label',figsize=(12,4), bins = 5)"
   ]
  },
  {
   "cell_type": "code",
   "execution_count": 12,
   "id": "b34bfd71",
   "metadata": {},
   "outputs": [
    {
     "data": {
      "text/html": [
       "<div>\n",
       "<style scoped>\n",
       "    .dataframe tbody tr th:only-of-type {\n",
       "        vertical-align: middle;\n",
       "    }\n",
       "\n",
       "    .dataframe tbody tr th {\n",
       "        vertical-align: top;\n",
       "    }\n",
       "\n",
       "    .dataframe thead th {\n",
       "        text-align: right;\n",
       "    }\n",
       "</style>\n",
       "<table border=\"1\" class=\"dataframe\">\n",
       "  <thead>\n",
       "    <tr style=\"text-align: right;\">\n",
       "      <th></th>\n",
       "      <th>message</th>\n",
       "      <th>label</th>\n",
       "      <th>length</th>\n",
       "    </tr>\n",
       "  </thead>\n",
       "  <tbody>\n",
       "    <tr>\n",
       "      <th>949</th>\n",
       "      <td>Subject: fw : \" red , white and blue out \"\\n- ...</td>\n",
       "      <td>0</td>\n",
       "      <td>31860</td>\n",
       "    </tr>\n",
       "    <tr>\n",
       "      <th>1988</th>\n",
       "      <td>Subject: online pharxmacy 80 % off all meds\\nd...</td>\n",
       "      <td>1</td>\n",
       "      <td>21749</td>\n",
       "    </tr>\n",
       "    <tr>\n",
       "      <th>4287</th>\n",
       "      <td>Subject: the expatriate zone - issue # 1 2 / 1...</td>\n",
       "      <td>0</td>\n",
       "      <td>16061</td>\n",
       "    </tr>\n",
       "    <tr>\n",
       "      <th>3560</th>\n",
       "      <td>Subject: fw : thought this was important\\nbamm...</td>\n",
       "      <td>0</td>\n",
       "      <td>15999</td>\n",
       "    </tr>\n",
       "    <tr>\n",
       "      <th>4792</th>\n",
       "      <td>Subject: we ' ve got your info by internet , h...</td>\n",
       "      <td>1</td>\n",
       "      <td>14460</td>\n",
       "    </tr>\n",
       "    <tr>\n",
       "      <th>4903</th>\n",
       "      <td>Subject: re : coastal oil &amp; gas corporation\\nm...</td>\n",
       "      <td>0</td>\n",
       "      <td>13178</td>\n",
       "    </tr>\n",
       "    <tr>\n",
       "      <th>2935</th>\n",
       "      <td>Subject: re : coastal oil &amp; gas corporation\\nd...</td>\n",
       "      <td>0</td>\n",
       "      <td>13170</td>\n",
       "    </tr>\n",
       "    <tr>\n",
       "      <th>828</th>\n",
       "      <td>Subject: re : coastal oil &amp; gas corporation\\nd...</td>\n",
       "      <td>0</td>\n",
       "      <td>12830</td>\n",
       "    </tr>\n",
       "    <tr>\n",
       "      <th>3514</th>\n",
       "      <td>Subject: free profiles you choose derm\\nhtmlhe...</td>\n",
       "      <td>1</td>\n",
       "      <td>11932</td>\n",
       "    </tr>\n",
       "    <tr>\n",
       "      <th>4249</th>\n",
       "      <td>Subject: re : sitara release ( re : changes in...</td>\n",
       "      <td>0</td>\n",
       "      <td>11585</td>\n",
       "    </tr>\n",
       "  </tbody>\n",
       "</table>\n",
       "</div>"
      ],
      "text/plain": [
       "                                                message  label  length\n",
       "949   Subject: fw : \" red , white and blue out \"\\n- ...      0   31860\n",
       "1988  Subject: online pharxmacy 80 % off all meds\\nd...      1   21749\n",
       "4287  Subject: the expatriate zone - issue # 1 2 / 1...      0   16061\n",
       "3560  Subject: fw : thought this was important\\nbamm...      0   15999\n",
       "4792  Subject: we ' ve got your info by internet , h...      1   14460\n",
       "4903  Subject: re : coastal oil & gas corporation\\nm...      0   13178\n",
       "2935  Subject: re : coastal oil & gas corporation\\nd...      0   13170\n",
       "828   Subject: re : coastal oil & gas corporation\\nd...      0   12830\n",
       "3514  Subject: free profiles you choose derm\\nhtmlhe...      1   11932\n",
       "4249  Subject: re : sitara release ( re : changes in...      0   11585"
      ]
     },
     "execution_count": 12,
     "metadata": {},
     "output_type": "execute_result"
    }
   ],
   "source": [
    "#data[\"message\"] = data[\"message\"].str.replace('\\W+',' ').str.replace('\\s+',' ').str.strip()\n",
    "#data[\"message\"] = data[\"message\"].str.split()\n",
    "#data[\"message\"]=[[word for word in k if word not in stopwords.words('english')]for k in data[\"message\"]]\n",
    "data.sort_values(by='length', ascending=False).head(10)"
   ]
  },
  {
   "cell_type": "code",
   "execution_count": 13,
   "id": "672115c1",
   "metadata": {},
   "outputs": [],
   "source": [
    "import string\n",
    "def transform_message(message):\n",
    "    message_not_punc = [] # Message without punctuation\n",
    "    i = 0\n",
    "    for punctuation in message:\n",
    "        if punctuation not in string.punctuation:\n",
    "            message_not_punc.append(punctuation)\n",
    "    # Join words again to form the string.\n",
    "    message_not_punc = ''.join(message_not_punc) \n",
    "\n",
    "    # Remove any stopwords for message_not_punc, but first we should     \n",
    "    # to transform this into the list.\n",
    "    message_clean = list(message_not_punc.split(\" \"))\n",
    "    while i <= len(message_clean):\n",
    "        for mess in message_clean:\n",
    "            if mess.lower()  in stopwords.words('english'):\n",
    "                message_clean.remove(mess)\n",
    "        i =i +1\n",
    "    return  message_clean"
   ]
  },
  {
   "cell_type": "code",
   "execution_count": 14,
   "id": "0a8bc98c",
   "metadata": {},
   "outputs": [
    {
     "data": {
      "text/plain": [
       "0    [Subject, enron, methanol, , meter, , , 988291...\n",
       "Name: message, dtype: object"
      ]
     },
     "execution_count": 14,
     "metadata": {},
     "output_type": "execute_result"
    }
   ],
   "source": [
    "data['message'].head(1).apply(transform_message)"
   ]
  },
  {
   "cell_type": "code",
   "execution_count": 19,
   "id": "824207f5",
   "metadata": {},
   "outputs": [],
   "source": [
    "vectorization = CountVectorizer(analyzer = transform_message)\n",
    "X = vectorization.fit(data[\"message\"][:10])"
   ]
  },
  {
   "cell_type": "code",
   "execution_count": 20,
   "id": "e82e7323",
   "metadata": {},
   "outputs": [
    {
     "data": {
      "text/plain": [
       "CountVectorizer(analyzer=<function transform_message at 0x7f7eed4d79d0>)"
      ]
     },
     "execution_count": 20,
     "metadata": {},
     "output_type": "execute_result"
    }
   ],
   "source": [
    "X_transform = X.transform([data['messages']]"
   ]
  },
  {
   "cell_type": "code",
   "execution_count": null,
   "id": "156ea76c",
   "metadata": {},
   "outputs": [],
   "source": []
  }
 ],
 "metadata": {
  "kernelspec": {
   "display_name": "Python 3",
   "language": "python",
   "name": "python3"
  },
  "language_info": {
   "codemirror_mode": {
    "name": "ipython",
    "version": 3
   },
   "file_extension": ".py",
   "mimetype": "text/x-python",
   "name": "python",
   "nbconvert_exporter": "python",
   "pygments_lexer": "ipython3",
   "version": "3.8.10"
  }
 },
 "nbformat": 4,
 "nbformat_minor": 5
}
