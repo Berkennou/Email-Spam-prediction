{
 "cells": [
  {
   "cell_type": "markdown",
   "id": "22a13482",
   "metadata": {},
   "source": [
    "## **Naive Bayes**\n",
    "### **TF-IDF**\n"
   ]
  },
  {
   "cell_type": "markdown",
   "id": "81d0df48",
   "metadata": {},
   "source": [
    "* Importation des librairies nécessaires"
   ]
  },
  {
   "cell_type": "code",
   "execution_count": 1,
   "id": "f596d6ec",
   "metadata": {},
   "outputs": [
    {
     "name": "stderr",
     "output_type": "stream",
     "text": [
      "[nltk_data] Downloading package stopwords to\n",
      "[nltk_data]     C:\\Users\\LATITUDE\\AppData\\Roaming\\nltk_data...\n",
      "[nltk_data]   Package stopwords is already up-to-date!\n",
      "[nltk_data] Downloading package wordnet to\n",
      "[nltk_data]     C:\\Users\\LATITUDE\\AppData\\Roaming\\nltk_data...\n",
      "[nltk_data]   Package wordnet is already up-to-date!\n",
      "[nltk_data] Downloading package omw-1.4 to\n",
      "[nltk_data]     C:\\Users\\LATITUDE\\AppData\\Roaming\\nltk_data...\n",
      "[nltk_data]   Package omw-1.4 is already up-to-date!\n"
     ]
    }
   ],
   "source": [
    "import numpy as np\n",
    "import matplotlib.pyplot as plt\n",
    "import pandas as pd\n",
    "import seaborn as sn\n",
    "import re\n",
    "import nltk\n",
    "nltk.download('stopwords')\n",
    "nltk.download('wordnet')\n",
    "nltk.download('omw-1.4')\n",
    "from nltk.corpus import stopwords\n",
    "from nltk.stem import WordNetLemmatizer\n",
    "from nltk.stem.porter import PorterStemmer\n",
    "from sklearn.metrics import confusion_matrix,accuracy_score\n",
    "from sklearn.model_selection import train_test_split\n",
    "from sklearn.naive_bayes import MultinomialNB\n",
    "from imblearn.combine import SMOTETomek\n",
    "from imblearn.over_sampling import RandomOverSampler \n",
    "from imblearn.under_sampling import RandomUnderSampler \n",
    "from sklearn.metrics import average_precision_score,precision_recall_curve\n",
    "from sklearn.metrics import auc, plot_precision_recall_curve\n",
    "from sklearn.metrics import classification_report\n",
    "\n"
   ]
  },
  {
   "cell_type": "markdown",
   "id": "58b4a77f",
   "metadata": {},
   "source": [
    "## **Open and load the data set**"
   ]
  },
  {
   "cell_type": "code",
   "execution_count": 2,
   "id": "2204a21d",
   "metadata": {},
   "outputs": [
    {
     "data": {
      "text/html": [
       "<div>\n",
       "<style scoped>\n",
       "    .dataframe tbody tr th:only-of-type {\n",
       "        vertical-align: middle;\n",
       "    }\n",
       "\n",
       "    .dataframe tbody tr th {\n",
       "        vertical-align: top;\n",
       "    }\n",
       "\n",
       "    .dataframe thead th {\n",
       "        text-align: right;\n",
       "    }\n",
       "</style>\n",
       "<table border=\"1\" class=\"dataframe\">\n",
       "  <thead>\n",
       "    <tr style=\"text-align: right;\">\n",
       "      <th></th>\n",
       "      <th>id</th>\n",
       "      <th>label</th>\n",
       "      <th>text</th>\n",
       "      <th>label_num</th>\n",
       "    </tr>\n",
       "  </thead>\n",
       "  <tbody>\n",
       "    <tr>\n",
       "      <th>0</th>\n",
       "      <td>605</td>\n",
       "      <td>ham</td>\n",
       "      <td>Subject: enron methanol ; meter # : 988291\\nth...</td>\n",
       "      <td>0</td>\n",
       "    </tr>\n",
       "    <tr>\n",
       "      <th>1</th>\n",
       "      <td>2349</td>\n",
       "      <td>ham</td>\n",
       "      <td>Subject: hpl nom for january 9 , 2001\\n( see a...</td>\n",
       "      <td>0</td>\n",
       "    </tr>\n",
       "    <tr>\n",
       "      <th>2</th>\n",
       "      <td>3624</td>\n",
       "      <td>ham</td>\n",
       "      <td>Subject: neon retreat\\nho ho ho , we ' re arou...</td>\n",
       "      <td>0</td>\n",
       "    </tr>\n",
       "    <tr>\n",
       "      <th>3</th>\n",
       "      <td>4685</td>\n",
       "      <td>spam</td>\n",
       "      <td>Subject: photoshop , windows , office . cheap ...</td>\n",
       "      <td>1</td>\n",
       "    </tr>\n",
       "    <tr>\n",
       "      <th>4</th>\n",
       "      <td>2030</td>\n",
       "      <td>ham</td>\n",
       "      <td>Subject: re : indian springs\\nthis deal is to ...</td>\n",
       "      <td>0</td>\n",
       "    </tr>\n",
       "    <tr>\n",
       "      <th>...</th>\n",
       "      <td>...</td>\n",
       "      <td>...</td>\n",
       "      <td>...</td>\n",
       "      <td>...</td>\n",
       "    </tr>\n",
       "    <tr>\n",
       "      <th>5166</th>\n",
       "      <td>1518</td>\n",
       "      <td>ham</td>\n",
       "      <td>Subject: put the 10 on the ft\\nthe transport v...</td>\n",
       "      <td>0</td>\n",
       "    </tr>\n",
       "    <tr>\n",
       "      <th>5167</th>\n",
       "      <td>404</td>\n",
       "      <td>ham</td>\n",
       "      <td>Subject: 3 / 4 / 2000 and following noms\\nhpl ...</td>\n",
       "      <td>0</td>\n",
       "    </tr>\n",
       "    <tr>\n",
       "      <th>5168</th>\n",
       "      <td>2933</td>\n",
       "      <td>ham</td>\n",
       "      <td>Subject: calpine daily gas nomination\\n&gt;\\n&gt;\\nj...</td>\n",
       "      <td>0</td>\n",
       "    </tr>\n",
       "    <tr>\n",
       "      <th>5169</th>\n",
       "      <td>1409</td>\n",
       "      <td>ham</td>\n",
       "      <td>Subject: industrial worksheets for august 2000...</td>\n",
       "      <td>0</td>\n",
       "    </tr>\n",
       "    <tr>\n",
       "      <th>5170</th>\n",
       "      <td>4807</td>\n",
       "      <td>spam</td>\n",
       "      <td>Subject: important online banking alert\\ndear ...</td>\n",
       "      <td>1</td>\n",
       "    </tr>\n",
       "  </tbody>\n",
       "</table>\n",
       "<p>5171 rows × 4 columns</p>\n",
       "</div>"
      ],
      "text/plain": [
       "        id label                                               text  label_num\n",
       "0      605   ham  Subject: enron methanol ; meter # : 988291\\nth...          0\n",
       "1     2349   ham  Subject: hpl nom for january 9 , 2001\\n( see a...          0\n",
       "2     3624   ham  Subject: neon retreat\\nho ho ho , we ' re arou...          0\n",
       "3     4685  spam  Subject: photoshop , windows , office . cheap ...          1\n",
       "4     2030   ham  Subject: re : indian springs\\nthis deal is to ...          0\n",
       "...    ...   ...                                                ...        ...\n",
       "5166  1518   ham  Subject: put the 10 on the ft\\nthe transport v...          0\n",
       "5167   404   ham  Subject: 3 / 4 / 2000 and following noms\\nhpl ...          0\n",
       "5168  2933   ham  Subject: calpine daily gas nomination\\n>\\n>\\nj...          0\n",
       "5169  1409   ham  Subject: industrial worksheets for august 2000...          0\n",
       "5170  4807  spam  Subject: important online banking alert\\ndear ...          1\n",
       "\n",
       "[5171 rows x 4 columns]"
      ]
     },
     "execution_count": 2,
     "metadata": {},
     "output_type": "execute_result"
    }
   ],
   "source": [
    "\n",
    "\n",
    "df = pd.read_csv(\"spam_ham_dataset.csv\")\n",
    "df\n",
    "\n"
   ]
  },
  {
   "cell_type": "markdown",
   "id": "c42496bc",
   "metadata": {},
   "source": [
    "## **ham/spam repartition**"
   ]
  },
  {
   "cell_type": "code",
   "execution_count": 3,
   "id": "68ff8727",
   "metadata": {},
   "outputs": [
    {
     "name": "stderr",
     "output_type": "stream",
     "text": [
      "C:\\Users\\LATITUDE\\AppData\\Local\\Programs\\Python\\Python39\\lib\\site-packages\\seaborn\\_decorators.py:36: FutureWarning: Pass the following variable as a keyword arg: x. From version 0.12, the only valid positional argument will be `data`, and passing other arguments without an explicit keyword will result in an error or misinterpretation.\n",
      "  warnings.warn(\n"
     ]
    },
    {
     "data": {
      "text/plain": [
       "<AxesSubplot:xlabel='label', ylabel='count'>"
      ]
     },
     "execution_count": 3,
     "metadata": {},
     "output_type": "execute_result"
    },
    {
     "data": {
      "image/png": "[encoded data removed]",
      "text/plain": [
       "<Figure size 432x288 with 1 Axes>"
      ]
     },
     "metadata": {
      "needs_background": "light"
     },
     "output_type": "display_data"
    }
   ],
   "source": [
    "sn.countplot(df[\"label\"])"
   ]
  },
  {
   "cell_type": "markdown",
   "id": "fe518909",
   "metadata": {},
   "source": [
    "## **Data set view**"
   ]
  },
  {
   "cell_type": "code",
   "execution_count": 4,
   "id": "c5b358e8",
   "metadata": {},
   "outputs": [
    {
     "data": {
      "text/html": [
       "<div>\n",
       "<style scoped>\n",
       "    .dataframe tbody tr th:only-of-type {\n",
       "        vertical-align: middle;\n",
       "    }\n",
       "\n",
       "    .dataframe tbody tr th {\n",
       "        vertical-align: top;\n",
       "    }\n",
       "\n",
       "    .dataframe thead th {\n",
       "        text-align: right;\n",
       "    }\n",
       "</style>\n",
       "<table border=\"1\" class=\"dataframe\">\n",
       "  <thead>\n",
       "    <tr style=\"text-align: right;\">\n",
       "      <th></th>\n",
       "      <th>id</th>\n",
       "      <th>label</th>\n",
       "      <th>text</th>\n",
       "      <th>label_num</th>\n",
       "    </tr>\n",
       "  </thead>\n",
       "  <tbody>\n",
       "    <tr>\n",
       "      <th>0</th>\n",
       "      <td>605</td>\n",
       "      <td>ham</td>\n",
       "      <td>Subject: enron methanol ; meter # : 988291\\nth...</td>\n",
       "      <td>0</td>\n",
       "    </tr>\n",
       "    <tr>\n",
       "      <th>1</th>\n",
       "      <td>2349</td>\n",
       "      <td>ham</td>\n",
       "      <td>Subject: hpl nom for january 9 , 2001\\n( see a...</td>\n",
       "      <td>0</td>\n",
       "    </tr>\n",
       "    <tr>\n",
       "      <th>2</th>\n",
       "      <td>3624</td>\n",
       "      <td>ham</td>\n",
       "      <td>Subject: neon retreat\\nho ho ho , we ' re arou...</td>\n",
       "      <td>0</td>\n",
       "    </tr>\n",
       "    <tr>\n",
       "      <th>3</th>\n",
       "      <td>4685</td>\n",
       "      <td>spam</td>\n",
       "      <td>Subject: photoshop , windows , office . cheap ...</td>\n",
       "      <td>1</td>\n",
       "    </tr>\n",
       "    <tr>\n",
       "      <th>4</th>\n",
       "      <td>2030</td>\n",
       "      <td>ham</td>\n",
       "      <td>Subject: re : indian springs\\nthis deal is to ...</td>\n",
       "      <td>0</td>\n",
       "    </tr>\n",
       "    <tr>\n",
       "      <th>...</th>\n",
       "      <td>...</td>\n",
       "      <td>...</td>\n",
       "      <td>...</td>\n",
       "      <td>...</td>\n",
       "    </tr>\n",
       "    <tr>\n",
       "      <th>5166</th>\n",
       "      <td>1518</td>\n",
       "      <td>ham</td>\n",
       "      <td>Subject: put the 10 on the ft\\nthe transport v...</td>\n",
       "      <td>0</td>\n",
       "    </tr>\n",
       "    <tr>\n",
       "      <th>5167</th>\n",
       "      <td>404</td>\n",
       "      <td>ham</td>\n",
       "      <td>Subject: 3 / 4 / 2000 and following noms\\nhpl ...</td>\n",
       "      <td>0</td>\n",
       "    </tr>\n",
       "    <tr>\n",
       "      <th>5168</th>\n",
       "      <td>2933</td>\n",
       "      <td>ham</td>\n",
       "      <td>Subject: calpine daily gas nomination\\n&gt;\\n&gt;\\nj...</td>\n",
       "      <td>0</td>\n",
       "    </tr>\n",
       "    <tr>\n",
       "      <th>5169</th>\n",
       "      <td>1409</td>\n",
       "      <td>ham</td>\n",
       "      <td>Subject: industrial worksheets for august 2000...</td>\n",
       "      <td>0</td>\n",
       "    </tr>\n",
       "    <tr>\n",
       "      <th>5170</th>\n",
       "      <td>4807</td>\n",
       "      <td>spam</td>\n",
       "      <td>Subject: important online banking alert\\ndear ...</td>\n",
       "      <td>1</td>\n",
       "    </tr>\n",
       "  </tbody>\n",
       "</table>\n",
       "<p>5171 rows × 4 columns</p>\n",
       "</div>"
      ],
      "text/plain": [
       "        id label                                               text  label_num\n",
       "0      605   ham  Subject: enron methanol ; meter # : 988291\\nth...          0\n",
       "1     2349   ham  Subject: hpl nom for january 9 , 2001\\n( see a...          0\n",
       "2     3624   ham  Subject: neon retreat\\nho ho ho , we ' re arou...          0\n",
       "3     4685  spam  Subject: photoshop , windows , office . cheap ...          1\n",
       "4     2030   ham  Subject: re : indian springs\\nthis deal is to ...          0\n",
       "...    ...   ...                                                ...        ...\n",
       "5166  1518   ham  Subject: put the 10 on the ft\\nthe transport v...          0\n",
       "5167   404   ham  Subject: 3 / 4 / 2000 and following noms\\nhpl ...          0\n",
       "5168  2933   ham  Subject: calpine daily gas nomination\\n>\\n>\\nj...          0\n",
       "5169  1409   ham  Subject: industrial worksheets for august 2000...          0\n",
       "5170  4807  spam  Subject: important online banking alert\\ndear ...          1\n",
       "\n",
       "[5171 rows x 4 columns]"
      ]
     },
     "execution_count": 4,
     "metadata": {},
     "output_type": "execute_result"
    }
   ],
   "source": [
    "df"
   ]
  },
  {
   "cell_type": "markdown",
   "id": "2e67bec1",
   "metadata": {},
   "source": [
    "## **View Exemple of data** "
   ]
  },
  {
   "cell_type": "code",
   "execution_count": 5,
   "id": "651da66a",
   "metadata": {},
   "outputs": [
    {
     "data": {
      "text/plain": [
       "id                                                         605\n",
       "label                                                      ham\n",
       "text         Subject: enron methanol ; meter # : 988291\\nth...\n",
       "label_num                                                    0\n",
       "Name: 0, dtype: object"
      ]
     },
     "execution_count": 5,
     "metadata": {},
     "output_type": "execute_result"
    }
   ],
   "source": [
    "df.iloc[0]\n"
   ]
  },
  {
   "cell_type": "markdown",
   "id": "6ac8797d",
   "metadata": {},
   "source": [
    "### **Message content of the above element**"
   ]
  },
  {
   "cell_type": "code",
   "execution_count": 6,
   "id": "a1776a17",
   "metadata": {},
   "outputs": [
    {
     "data": {
      "text/plain": [
       "\"Subject: enron methanol ; meter # : 988291\\nthis is a follow up to the note i gave you on monday , 4 / 3 / 00 { preliminary\\nflow data provided by daren } .\\nplease override pop ' s daily volume { presently zero } to reflect daily\\nactivity you can obtain from gas control .\\nthis change is needed asap for economics purposes .\""
      ]
     },
     "execution_count": 6,
     "metadata": {},
     "output_type": "execute_result"
    }
   ],
   "source": [
    "\n",
    "df.iloc[0][\"text\"]"
   ]
  },
  {
   "cell_type": "markdown",
   "id": "223571f9",
   "metadata": {},
   "source": [
    "## **Remove unnecessary columns**"
   ]
  },
  {
   "cell_type": "code",
   "execution_count": 7,
   "id": "311c38a7",
   "metadata": {},
   "outputs": [],
   "source": [
    "df.drop(\"id\",axis=1,inplace=True)\n",
    "df.drop(\"label\",axis=1,inplace=True)\n",
    "\n"
   ]
  },
  {
   "cell_type": "markdown",
   "id": "fd0f7059",
   "metadata": {},
   "source": [
    "### **Remaining attribute of the datafram**"
   ]
  },
  {
   "cell_type": "code",
   "execution_count": 8,
   "id": "6dc9c4d5",
   "metadata": {},
   "outputs": [
    {
     "data": {
      "text/html": [
       "<div>\n",
       "<style scoped>\n",
       "    .dataframe tbody tr th:only-of-type {\n",
       "        vertical-align: middle;\n",
       "    }\n",
       "\n",
       "    .dataframe tbody tr th {\n",
       "        vertical-align: top;\n",
       "    }\n",
       "\n",
       "    .dataframe thead th {\n",
       "        text-align: right;\n",
       "    }\n",
       "</style>\n",
       "<table border=\"1\" class=\"dataframe\">\n",
       "  <thead>\n",
       "    <tr style=\"text-align: right;\">\n",
       "      <th></th>\n",
       "      <th>text</th>\n",
       "      <th>label_num</th>\n",
       "    </tr>\n",
       "  </thead>\n",
       "  <tbody>\n",
       "    <tr>\n",
       "      <th>0</th>\n",
       "      <td>Subject: enron methanol ; meter # : 988291\\nth...</td>\n",
       "      <td>0</td>\n",
       "    </tr>\n",
       "    <tr>\n",
       "      <th>1</th>\n",
       "      <td>Subject: hpl nom for january 9 , 2001\\n( see a...</td>\n",
       "      <td>0</td>\n",
       "    </tr>\n",
       "    <tr>\n",
       "      <th>2</th>\n",
       "      <td>Subject: neon retreat\\nho ho ho , we ' re arou...</td>\n",
       "      <td>0</td>\n",
       "    </tr>\n",
       "    <tr>\n",
       "      <th>3</th>\n",
       "      <td>Subject: photoshop , windows , office . cheap ...</td>\n",
       "      <td>1</td>\n",
       "    </tr>\n",
       "    <tr>\n",
       "      <th>4</th>\n",
       "      <td>Subject: re : indian springs\\nthis deal is to ...</td>\n",
       "      <td>0</td>\n",
       "    </tr>\n",
       "    <tr>\n",
       "      <th>...</th>\n",
       "      <td>...</td>\n",
       "      <td>...</td>\n",
       "    </tr>\n",
       "    <tr>\n",
       "      <th>5166</th>\n",
       "      <td>Subject: put the 10 on the ft\\nthe transport v...</td>\n",
       "      <td>0</td>\n",
       "    </tr>\n",
       "    <tr>\n",
       "      <th>5167</th>\n",
       "      <td>Subject: 3 / 4 / 2000 and following noms\\nhpl ...</td>\n",
       "      <td>0</td>\n",
       "    </tr>\n",
       "    <tr>\n",
       "      <th>5168</th>\n",
       "      <td>Subject: calpine daily gas nomination\\n&gt;\\n&gt;\\nj...</td>\n",
       "      <td>0</td>\n",
       "    </tr>\n",
       "    <tr>\n",
       "      <th>5169</th>\n",
       "      <td>Subject: industrial worksheets for august 2000...</td>\n",
       "      <td>0</td>\n",
       "    </tr>\n",
       "    <tr>\n",
       "      <th>5170</th>\n",
       "      <td>Subject: important online banking alert\\ndear ...</td>\n",
       "      <td>1</td>\n",
       "    </tr>\n",
       "  </tbody>\n",
       "</table>\n",
       "<p>5171 rows × 2 columns</p>\n",
       "</div>"
      ],
      "text/plain": [
       "                                                   text  label_num\n",
       "0     Subject: enron methanol ; meter # : 988291\\nth...          0\n",
       "1     Subject: hpl nom for january 9 , 2001\\n( see a...          0\n",
       "2     Subject: neon retreat\\nho ho ho , we ' re arou...          0\n",
       "3     Subject: photoshop , windows , office . cheap ...          1\n",
       "4     Subject: re : indian springs\\nthis deal is to ...          0\n",
       "...                                                 ...        ...\n",
       "5166  Subject: put the 10 on the ft\\nthe transport v...          0\n",
       "5167  Subject: 3 / 4 / 2000 and following noms\\nhpl ...          0\n",
       "5168  Subject: calpine daily gas nomination\\n>\\n>\\nj...          0\n",
       "5169  Subject: industrial worksheets for august 2000...          0\n",
       "5170  Subject: important online banking alert\\ndear ...          1\n",
       "\n",
       "[5171 rows x 2 columns]"
      ]
     },
     "execution_count": 8,
     "metadata": {},
     "output_type": "execute_result"
    }
   ],
   "source": [
    "df"
   ]
  },
  {
   "cell_type": "markdown",
   "id": "8e1136ff",
   "metadata": {},
   "source": [
    "## **Data Cleaning**\n",
    "#### 1. *Remove Syntax*\n",
    "#### 2. *Lowering Case*\n",
    "#### 3. *Split Into An Array Of Word*\n",
    "#### 4. *Remove StopWords*\n",
    "#### 5. *Converting the word to its meaningful base*"
   ]
  },
  {
   "cell_type": "code",
   "execution_count": 9,
   "id": "379a4ef7",
   "metadata": {},
   "outputs": [],
   "source": [
    "\n",
    "ps = PorterStemmer()\n",
    "lm = WordNetLemmatizer() \n",
    "#Le corpus qui va contenir la liste des messages (text) tout en minuscule sans la ponctuation et les stopwords\n",
    "corpus = []\n",
    "for i in range(0, len(df[\"text\"])):\n",
    "#Suppression de tout les caractéres spéciaux\n",
    "    message = re.sub('[^a-zA-Z]', ' ',df[\"text\"][i])\n",
    "#Mettre tout le message en minuscule\n",
    "    message = message.lower()\n",
    "#Couper le message en mots\n",
    "    message = message.split()\n",
    "#Parcourir tout les mots de chaque message et les convertir en leurs forme de base significative s'il n'appratiennent pas au stops words\n",
    "    message = [lm.lemmatize(word) for word in message if not word in stopwords.words('english')]\n",
    "#Reformer le text de chaque message à partir des mots restant convertis en leurs forme de base signficative en miniscule et sans pontuation\n",
    "    message = ' '.join(message)\n",
    "#ajouter le message dans le corpus\n",
    "    corpus.append(message)"
   ]
  },
  {
   "cell_type": "markdown",
   "id": "f9df1da3",
   "metadata": {},
   "source": [
    "### **TfidfVectorizer application on the corpus**"
   ]
  },
  {
   "cell_type": "code",
   "execution_count": 10,
   "id": "cb5a2df6",
   "metadata": {},
   "outputs": [
    {
     "data": {
      "text/plain": [
       "array([[0., 0., 0., ..., 0., 0., 0.],\n",
       "       [0., 0., 0., ..., 0., 0., 0.],\n",
       "       [0., 0., 0., ..., 0., 0., 0.],\n",
       "       ...,\n",
       "       [0., 0., 0., ..., 0., 0., 0.],\n",
       "       [0., 0., 0., ..., 0., 0., 0.],\n",
       "       [0., 0., 0., ..., 0., 0., 0.]])"
      ]
     },
     "execution_count": 10,
     "metadata": {},
     "output_type": "execute_result"
    }
   ],
   "source": [
    "#Application de TfidVectorizer pour calculer le TF et le IDF de chaque mot du text de chaque message du corpus\n",
    "#Multipler les valeurs TF*IDF pour avoir une valeur entre 0 et 1 qui représentera l'importance du mots dans le data set\n",
    "#Chaque message du corpus deviendras une liste de float représentant les mots que ce dérnier contenais\n",
    "from sklearn.feature_extraction.text import TfidfVectorizer\n",
    "cv = TfidfVectorizer()\n",
    "X = cv.fit_transform(corpus).toarray()\n",
    "X\n"
   ]
  },
  {
   "cell_type": "markdown",
   "id": "e948ef7f",
   "metadata": {},
   "source": [
    "# **resampling**"
   ]
  },
  {
   "cell_type": "markdown",
   "id": "fdb35f37",
   "metadata": {},
   "source": [
    "Comme on travaille sur des données déséquilibrées : \n",
    " * on appliquera sur nos données des méthodes de rééchantillonnage  : \n",
    "   * 1 => Génération d’échantillons synthétiques : qui consiste à générer des échantillons synthétiques de manière automatique et la également on distingue deux type d'algorithmes  :  \n",
    "     * i => Les algorithmes de sur-échantillonnage en créant des échantillons synthétiques à partir de la classe minoritaire au lieu de créer de simples copies.\n",
    "     * ii => Les algorithmes de Sous-échantillonnage en générant un certain nombre de centroïdes à partir des données d’origine, afin de perdre le moins d’information possible sur la classe majoritaire, lorsque celle-ci doit être réduite afin d’arriver à un ratio (classe minoritaire/ classe majoritaire) satisfaisant. \n",
    "   *  2 => Sur-échantillonnage : Oversampling  qui consiste à augmenter le nombre d'éléments de \n",
    "   la (des) classe(s) minoritaire(s) afin d’arriver à un ratio classe minoritaire/ classe majoritaire satisfaisant.\n",
    "   * 3 => Sous-échantillonnage : Undersampling  qui consiste à diminuer le nombre d'éléments de la  (des) classe(s) majoritaire(s) afin d’arriver à un ratio classe minoritaire/ classe majoritaire satisfaisant. \n",
    "   \n",
    "   "
   ]
  },
  {
   "cell_type": "markdown",
   "id": "e4878537",
   "metadata": {},
   "source": [
    "## **1) ii )**"
   ]
  },
  {
   "cell_type": "markdown",
   "id": "ea121792",
   "metadata": {},
   "source": [
    "* Synthetic undersampling(prend du temsp)"
   ]
  },
  {
   "cell_type": "code",
   "execution_count": 11,
   "id": "a7338eda",
   "metadata": {},
   "outputs": [
    {
     "data": {
      "text/plain": [
       "'from imblearn.under_sampling import ClusterCentroids \\ncc = ClusterCentroids()\\n\\nX_SU, Y_SU = cc.fit_resample(X,df[\"label_num\"])\\nprint (\"taille de x_bal : \",len(X_SU))\\nprint (\"taille de y_bal : \",len(Y_SU))'"
      ]
     },
     "execution_count": 11,
     "metadata": {},
     "output_type": "execute_result"
    }
   ],
   "source": [
    "#ce modél de sous échantillonage synthetique prends énormément de temps pour s'excuter donc je ne l'ai pas inclus\n",
    "#dans la démarche de résoltion de ce probléme ainsi qu'ayant un data set de taille 5000 il est conseillé d'utiliser le sur-échantillonage.\n",
    "'''from imblearn.under_sampling import ClusterCentroids \n",
    "cc = ClusterCentroids()\n",
    "\n",
    "X_SU, Y_SU = cc.fit_resample(X,df[\"label_num\"])\n",
    "print (\"taille de x_bal : \",len(X_SU))\n",
    "print (\"taille de y_bal : \",len(Y_SU))'''"
   ]
  },
  {
   "cell_type": "markdown",
   "id": "f36f832b",
   "metadata": {},
   "source": [
    "## **MultinomialNB**"
   ]
  },
  {
   "cell_type": "markdown",
   "id": "e3aa3b66",
   "metadata": {},
   "source": [
    "* Préparation de trois modéles MultinomialNB pour l'entrainement sur les train et test set qu'on on aura choisie par la suite \n",
    "issuent de l'application des trois modél d'échantillonage"
   ]
  },
  {
   "cell_type": "code",
   "execution_count": 12,
   "id": "1f3281ec",
   "metadata": {},
   "outputs": [],
   "source": [
    "\n",
    "model_SO = MultinomialNB()\n",
    "model_CO = MultinomialNB()\n",
    "model_CU = MultinomialNB()\n"
   ]
  },
  {
   "cell_type": "markdown",
   "id": "40f8e972",
   "metadata": {},
   "source": [
    "## **1 ) i )**"
   ]
  },
  {
   "cell_type": "markdown",
   "id": "0aca67ce",
   "metadata": {},
   "source": [
    "## **Tests to extract the best value of \"sampling_strategy\" for Synthetic Oversampling**"
   ]
  },
  {
   "cell_type": "markdown",
   "id": "fa5636d2",
   "metadata": {},
   "source": [
    "* On appliquera l'entrainement et le test du modéle MultinomialNB sur plusieurs données reéchantillonées avec le même modéle mais avec une valuer du ratio de reéchantillonage différent pour choisir et fixer le meilleur ratio pour notre cas, et donc avoir la meilleure accuracy."
   ]
  },
  {
   "cell_type": "code",
   "execution_count": 67,
   "id": "a905ae22",
   "metadata": {},
   "outputs": [],
   "source": [
    "def accuracy_ratio(r):\n",
    "#Définition du modéle de reéchantillonage synthetique avec le une valeur de ratio entrée en argument de la fonction \n",
    "    smk= SMOTETomek(sampling_strategy=r)\n",
    "#Appliquer le reéchantillonage\n",
    "    X_SO, Y_SO = smk.fit_resample(X,df[\"label_num\"])\n",
    "#Partager les données reéchantillonées en train et test set\n",
    "#Appliquer l'entrainement du modél de prédiction \n",
    "# Predir avec ce dérnier et renvoiyer l'accuracy score \n",
    "    X_train_SO, X_test_SO, y_train_SO, y_test_SO = train_test_split(X_SO, Y_SO, test_size = 0.20, random_state = 42)\n",
    "    model_SO.fit(X_train_SO,y_train_SO)\n",
    "    y_pred_SO=model_SO.predict(X_test_SO)\n",
    "    return accuracy_score(y_pred_SO,y_test_SO)"
   ]
  },
  {
   "cell_type": "code",
   "execution_count": 68,
   "id": "81a8309a",
   "metadata": {},
   "outputs": [],
   "source": [
    "#Appliquer la fonction définie ci-dessus pour plusieurs ratio\n",
    "x = [accuracy_ratio(i/10) for i in range(5,11)]\n",
    "y = [(i/10) for i in range(5,11) ]"
   ]
  },
  {
   "cell_type": "code",
   "execution_count": 15,
   "id": "7b6388c8",
   "metadata": {},
   "outputs": [
    {
     "data": {
      "text/plain": [
       "Text(0.5, 1.0, '-Accuracy en fonction du racio du rééchantillonage-')"
      ]
     },
     "execution_count": 15,
     "metadata": {},
     "output_type": "execute_result"
    },
    {
     "data": {
      "image/png": "[encoded data removed]",
      "text/plain": [
       "<Figure size 432x288 with 1 Axes>"
      ]
     },
     "metadata": {
      "needs_background": "light"
     },
     "output_type": "display_data"
    }
   ],
   "source": [
    "#Affichage de l'accuracy score en fonction du ratio\n",
    "plt.plot(y,x, color = 'red', linestyle = 'solid', linewidth = 2,\n",
    "  markerfacecolor = 'blue', markersize = 5)\n",
    "plt.ylim(0.95, 1)\n",
    "plt.xlabel('ratio reéchantillonge')\n",
    "plt.ylabel('accuracy')\n",
    "plt.title('-Accuracy en fonction du racio du rééchantillonage-')"
   ]
  },
  {
   "cell_type": "markdown",
   "id": "6f5d76bf",
   "metadata": {},
   "source": [
    "## **Remarks**"
   ]
  },
  {
   "cell_type": "markdown",
   "id": "ca566563",
   "metadata": {},
   "source": [
    "* On remarque que la meilleure valeur du ratio permettant de donner la plus haute accuracy est r = 0.6 selon notre répartition du train et test set."
   ]
  },
  {
   "cell_type": "markdown",
   "id": "11b6c442",
   "metadata": {},
   "source": [
    "* En s'appuyant sur les résultats et remarques faites dans la précédente cellule, on choisira le ratio = 0.6 pour le sur échantillonage sythetique "
   ]
  },
  {
   "cell_type": "markdown",
   "id": "9585b0b5",
   "metadata": {},
   "source": [
    "## **Synthetic Oversampling application**"
   ]
  },
  {
   "cell_type": "code",
   "execution_count": 69,
   "id": "e6564e72",
   "metadata": {},
   "outputs": [
    {
     "name": "stdout",
     "output_type": "stream",
     "text": [
      "taille de x_bal :  5871\n",
      "taille de y_bal :  5871\n"
     ]
    }
   ],
   "source": [
    "#On applique le sur-échantillonage synthétique avec le ratio = 0.6\n",
    "smk= SMOTETomek(sampling_strategy=0.6)\n",
    "X_SO, Y_SO = smk.fit_resample(X,df[\"label_num\"])\n",
    "print (\"taille de x_bal : \",len(X_SO))\n",
    "print (\"taille de y_bal : \",len(Y_SO))"
   ]
  },
  {
   "cell_type": "markdown",
   "id": "44c4bff0",
   "metadata": {},
   "source": [
    "##  **Fititing & prediction with Synthetic Oversampling data**"
   ]
  },
  {
   "cell_type": "code",
   "execution_count": 70,
   "id": "1d81f4d7",
   "metadata": {},
   "outputs": [],
   "source": [
    "#Entrainement et predicition sur les données résultantes du sur-échntillonage synthétique\n",
    "X_train_SO, X_test_SO, y_train_SO, y_test_SO = train_test_split(X_SO, Y_SO, test_size = 0.20, random_state = 42)\n",
    "model_SO.fit(X_train_SO,y_train_SO)\n",
    "y_pred_SO=model_SO.predict(X_test_SO)"
   ]
  },
  {
   "cell_type": "markdown",
   "id": "2e577c2d",
   "metadata": {},
   "source": [
    "# *Results*"
   ]
  },
  {
   "cell_type": "markdown",
   "id": "05188635",
   "metadata": {},
   "source": [
    "* Accuracy"
   ]
  },
  {
   "cell_type": "code",
   "execution_count": 71,
   "id": "2bc2c079",
   "metadata": {},
   "outputs": [
    {
     "name": "stdout",
     "output_type": "stream",
     "text": [
      "L'accuracy score de la prediction avec les données resultante du sur-échantillonage synthetique : 0.97\n"
     ]
    }
   ],
   "source": [
    "print(\"L'accuracy score de la prediction avec les données resultante du sur-échantillonage synthetique : \"'{0:0.2f}'.format(accuracy_score(y_pred_SO,y_test_SO)))\n"
   ]
  },
  {
   "cell_type": "markdown",
   "id": "0af15beb",
   "metadata": {},
   "source": [
    " * L'accuracy est trés hautes et elle est à seulement 3% de la perfection(100%)"
   ]
  },
  {
   "cell_type": "markdown",
   "id": "f379ebcd",
   "metadata": {},
   "source": [
    "* Confusion matrix"
   ]
  },
  {
   "cell_type": "code",
   "execution_count": 72,
   "id": "4479065b",
   "metadata": {},
   "outputs": [
    {
     "data": {
      "image/png": "[encoded data removed]",
      "text/plain": [
       "<Figure size 432x288 with 2 Axes>"
      ]
     },
     "metadata": {
      "needs_background": "light"
     },
     "output_type": "display_data"
    }
   ],
   "source": [
    "data = {'y_Actual':    y_test_SO.values,\n",
    "        'y_Predicted': y_pred_SO\n",
    "        }\n",
    "d = pd.DataFrame(data, columns=['y_Actual','y_Predicted'])\n",
    "confusion_matrix = pd.crosstab(d['y_Actual'], d['y_Predicted'], rownames=['True Label'], colnames=['Predicted Label'])\n",
    "sn.heatmap(confusion_matrix, annot=True,fmt='d',xticklabels=['ham','spam'], yticklabels=['ham','spam'])\n",
    "plt.show()"
   ]
  },
  {
   "cell_type": "markdown",
   "id": "f0c1fe44",
   "metadata": {},
   "source": [
    "* Score details"
   ]
  },
  {
   "cell_type": "code",
   "execution_count": 86,
   "id": "7e4f1201",
   "metadata": {},
   "outputs": [
    {
     "name": "stdout",
     "output_type": "stream",
     "text": [
      "              precision    recall  f1-score   support\n",
      "\n",
      "           0       0.97      0.99      0.98       750\n",
      "           1       0.99      0.94      0.96       425\n",
      "\n",
      "    accuracy                           0.97      1175\n",
      "   macro avg       0.98      0.97      0.97      1175\n",
      "weighted avg       0.97      0.97      0.97      1175\n",
      "\n"
     ]
    }
   ],
   "source": [
    "print (classification_report(y_test_SO, y_pred_SO))"
   ]
  },
  {
   "cell_type": "markdown",
   "id": "076d6c0a",
   "metadata": {},
   "source": [
    "* On remarque de la matrice de confusion et les détails du score que : \n",
    "    * Le modéle a prédit : \n",
    "        * Pour les mails  : \n",
    "            * 746 mail de 750 (les vrais postifs) => precision => 0.97\n",
    "            * 27 spam en étant des mail (les faux positifs)\n",
    "            * 4 mail en étant des spam (les faux négatifs) => recall = 0.99\n",
    "        * Pour les spams :  \n",
    "            * 398 spam de 425 (les vrais postifs)precision => 0.99\n",
    "            * 4 mail en étant des spam (les faux positifs)\n",
    "            * 27 spam en étant des mail (les faux négatifs)=> recall = 0.94\n",
    "\n",
    "\n",
    "* Comme on a une quantité de données importante, les résultat de la précision et du rappel sont satisfaisants car sur l'ensemble de données il y en a trés peu de mail qui passe en spam(ce qui est un peu grave sur une quantité mois importante de donées) et peu de spam qui passe en mail (ce n'est pas trop grave).\n",
    "    "
   ]
  },
  {
   "cell_type": "markdown",
   "id": "100848bd",
   "metadata": {},
   "source": [
    "* average precisiion & auc precision recall"
   ]
  },
  {
   "cell_type": "code",
   "execution_count": 73,
   "id": "07febb79",
   "metadata": {},
   "outputs": [
    {
     "name": "stdout",
     "output_type": "stream",
     "text": [
      "La valeur de laverage precision est : 0.95\n",
      "La valeur de lair sous la courbe de precision et rappelle est : 0.97\n"
     ]
    }
   ],
   "source": [
    "average_precision_SO = average_precision_score(y_true=y_test_SO, y_score=y_pred_SO)\n",
    "precision_SO, recall_SO, thresholds_SO = precision_recall_curve(y_test_SO, y_pred_SO)\n",
    "auc_precision_recall_SO = auc(recall_SO, precision_SO)\n",
    "print('La valeur de l''average precision est : ''{0:0.2f}'.format(average_precision_SO))\n",
    "print('La valeur de l''air sous la courbe de precision et rappelle est : ''{0:0.2f}'.format(auc_precision_recall_SO))"
   ]
  },
  {
   "cell_type": "code",
   "execution_count": 74,
   "id": "3b138cfb",
   "metadata": {},
   "outputs": [
    {
     "name": "stderr",
     "output_type": "stream",
     "text": [
      "C:\\Users\\LATITUDE\\AppData\\Local\\Programs\\Python\\Python39\\lib\\site-packages\\sklearn\\utils\\deprecation.py:87: FutureWarning: Function plot_precision_recall_curve is deprecated; Function `plot_precision_recall_curve` is deprecated in 1.0 and will be removed in 1.2. Use one of the class methods: PrecisionRecallDisplay.from_predictions or PrecisionRecallDisplay.from_estimator.\n",
      "  warnings.warn(msg, category=FutureWarning)\n"
     ]
    },
    {
     "data": {
      "text/plain": [
       "Text(0.5, 1.0, 'SSO Precision-Recall curve: AP=0.95')"
      ]
     },
     "execution_count": 74,
     "metadata": {},
     "output_type": "execute_result"
    },
    {
     "data": {
      "image/png": "[encoded data removed]",
      "text/plain": [
       "<Figure size 432x288 with 1 Axes>"
      ]
     },
     "metadata": {
      "needs_background": "light"
     },
     "output_type": "display_data"
    }
   ],
   "source": [
    "\n",
    "disp = plot_precision_recall_curve(model_SO, X_test_SO, y_test_SO)\n",
    "disp.ax_.set_title('SSO Precision-Recall curve: '\n",
    "                   'AP={0:0.2f}'.format(average_precision_SO))"
   ]
  },
  {
   "cell_type": "markdown",
   "id": "e0a4721b",
   "metadata": {},
   "source": [
    "* On voit sur la courbe qu'elle est presque parfaite, car la precision et le rappelle de ce dérnier sont trés elevés,ainni qu'on peut apercevoir du bruit de precison te rappelle prés de  1 car ces dérnier ne sont pas tout à fait parfait."
   ]
  },
  {
   "cell_type": "markdown",
   "id": "e70153f8",
   "metadata": {},
   "source": [
    "# **2)**"
   ]
  },
  {
   "cell_type": "markdown",
   "id": "d6fc9a65",
   "metadata": {},
   "source": [
    "## **Tests to extract the best value of \"sampling_strategy\" for Classique Oversampling**"
   ]
  },
  {
   "cell_type": "code",
   "execution_count": 78,
   "id": "72d888db",
   "metadata": {},
   "outputs": [],
   "source": [
    "def accuracy_ratio(r):\n",
    "#Définition du modéle de reéchantillonage classique avec le une valeur de ratio entrée en argument de la fonction \n",
    "    ros = RandomOverSampler(sampling_strategy=r)\n",
    "#Appliquer le reéchantillonage\n",
    "    X_CO, Y_CO = ros.fit_resample(X,df[\"label_num\"])\n",
    "#Partager les données reéchantillonées en train et test set\n",
    "#Appliquer l'entrainement du modél de prédiction \n",
    "#Predir avec ce dérnier et renvoiyer l'accuracy score \n",
    "    X_train_CO, X_test_CO, y_train_CO, y_test_CO = train_test_split(X_CO, Y_CO, test_size = 0.20, random_state = 42)\n",
    "    model_CO.fit(X_train_CO,y_train_CO)\n",
    "    y_pred_CO=model_CO.predict(X_test_CO)\n",
    "    return accuracy_score(y_pred_CO,y_test_CO)"
   ]
  },
  {
   "cell_type": "code",
   "execution_count": 79,
   "id": "9fc41454",
   "metadata": {},
   "outputs": [],
   "source": [
    "#Appliquer la fonction définis ci-dessus pour plusieurs ratio\n",
    "x = [accuracy_ratio(i/10) for i in range(5,11)]\n",
    "y = [(i/10) for i in range(5,11)]"
   ]
  },
  {
   "cell_type": "code",
   "execution_count": 80,
   "id": "2c3636d1",
   "metadata": {},
   "outputs": [
    {
     "data": {
      "text/plain": [
       "Text(0.5, 1.0, '-Accuracy en fonction du racio du rééchantillonage-')"
      ]
     },
     "execution_count": 80,
     "metadata": {},
     "output_type": "execute_result"
    },
    {
     "data": {
      "image/png": "[encoded data removed]",
      "text/plain": [
       "<Figure size 432x288 with 1 Axes>"
      ]
     },
     "metadata": {
      "needs_background": "light"
     },
     "output_type": "display_data"
    }
   ],
   "source": [
    "#Affichage de l'accuracy score en fonction du ratio\n",
    "plt.plot(y,x, color = 'blue', linestyle = 'solid', linewidth = 2,\n",
    "  markerfacecolor = 'blue', markersize = 5)\n",
    "plt.ylim(0.95, 1)\n",
    "plt.xlabel('ratio reéchantillonge')\n",
    "plt.ylabel('accuracy')\n",
    "\n",
    "plt.title('-Accuracy en fonction du racio du rééchantillonage-')"
   ]
  },
  {
   "cell_type": "markdown",
   "id": "097f6fdf",
   "metadata": {},
   "source": [
    "## **Remarks**"
   ]
  },
  {
   "cell_type": "markdown",
   "id": "3fcd7087",
   "metadata": {},
   "source": [
    " * Mêmes remrques pour le model d'échantillonage précédent le meilleur ratio est r = 0.8"
   ]
  },
  {
   "cell_type": "markdown",
   "id": "1d85d145",
   "metadata": {},
   "source": [
    "## **Classic Oversampling application**"
   ]
  },
  {
   "cell_type": "code",
   "execution_count": 81,
   "id": "aaaeaf7e",
   "metadata": {},
   "outputs": [
    {
     "name": "stdout",
     "output_type": "stream",
     "text": [
      "taille de x_bal :  6609\n",
      "taille de y_bal :  6609\n"
     ]
    }
   ],
   "source": [
    "#On applique le sur-échantillonage classique avec le ratio = 0.8\n",
    "ros = RandomOverSampler(sampling_strategy=0.8)\n",
    "X_CO, Y_CO = ros.fit_resample(X,df[\"label_num\"])\n",
    "\n",
    "print (\"taille de x_bal : \",len(X_CO))\n",
    "print (\"taille de y_bal : \",len(Y_CO))"
   ]
  },
  {
   "cell_type": "markdown",
   "id": "00971ce0",
   "metadata": {},
   "source": [
    "## **Fititing & prediction with classic Oversampling data**\n"
   ]
  },
  {
   "cell_type": "code",
   "execution_count": 82,
   "id": "188bf478",
   "metadata": {},
   "outputs": [],
   "source": [
    "#Entrainement et predicition sur les données résultantes du sur-échantillonage classique\n",
    "X_train_CO, X_test_CO, y_train_CO, y_test_CO = train_test_split(X_CO, Y_CO, test_size = 0.20, random_state = 42)\n",
    "model_CO.fit(X_train_CO,y_train_CO)\n",
    "y_pred_CO=model_CO.predict(X_test_CO)"
   ]
  },
  {
   "cell_type": "markdown",
   "id": "f86db21c",
   "metadata": {},
   "source": [
    "# *Results*"
   ]
  },
  {
   "cell_type": "markdown",
   "id": "de65c8b7",
   "metadata": {},
   "source": [
    "* Acuuracy"
   ]
  },
  {
   "cell_type": "code",
   "execution_count": 83,
   "id": "6c8be518",
   "metadata": {},
   "outputs": [
    {
     "name": "stdout",
     "output_type": "stream",
     "text": [
      "Accuracy score:for prediction with data resulting by classic Oversampling data : 0.98\n"
     ]
    }
   ],
   "source": [
    "\n",
    "print(\"Accuracy score:for prediction with data resulting by classic Oversampling data : \"'{0:0.2f}'.format(accuracy_score(y_pred_CO,y_test_CO)))"
   ]
  },
  {
   "cell_type": "markdown",
   "id": "9bbd3668",
   "metadata": {},
   "source": [
    "* L'accuracy obtnue est presque égale à celle obtenue en utilsant le réchantillonage synthetique."
   ]
  },
  {
   "cell_type": "markdown",
   "id": "c74261f4",
   "metadata": {},
   "source": [
    "* Confusion matrix"
   ]
  },
  {
   "cell_type": "code",
   "execution_count": 84,
   "id": "92070de1",
   "metadata": {},
   "outputs": [
    {
     "data": {
      "image/png": "[encoded data removed]",
      "text/plain": [
       "<Figure size 432x288 with 2 Axes>"
      ]
     },
     "metadata": {
      "needs_background": "light"
     },
     "output_type": "display_data"
    }
   ],
   "source": [
    "data = {'y_Actual':    y_test_CO.values,\n",
    "        'y_Predicted': y_pred_CO\n",
    "        }\n",
    "d = pd.DataFrame(data, columns=['y_Actual','y_Predicted'])\n",
    "confusion_matrix = pd.crosstab(d['y_Actual'], d['y_Predicted'], rownames=['True Label'], colnames=['Predicted Label'])\n",
    "sn.heatmap(confusion_matrix, annot=True,fmt='d',xticklabels=['ham','spam'], yticklabels=['ham','spam'])\n",
    "plt.show()"
   ]
  },
  {
   "cell_type": "markdown",
   "id": "cb0b6ca4",
   "metadata": {},
   "source": [
    "* Score details"
   ]
  },
  {
   "cell_type": "code",
   "execution_count": 85,
   "id": "45edcdc2",
   "metadata": {},
   "outputs": [
    {
     "name": "stdout",
     "output_type": "stream",
     "text": [
      "              precision    recall  f1-score   support\n",
      "\n",
      "           0       0.97      0.99      0.98       745\n",
      "           1       0.98      0.97      0.98       577\n",
      "\n",
      "    accuracy                           0.98      1322\n",
      "   macro avg       0.98      0.98      0.98      1322\n",
      "weighted avg       0.98      0.98      0.98      1322\n",
      "\n"
     ]
    }
   ],
   "source": [
    "print (classification_report(y_test_CO, y_pred_CO))"
   ]
  },
  {
   "cell_type": "markdown",
   "id": "5d3883ed",
   "metadata": {},
   "source": [
    "* On remarque de la matrice de confusion et les détails du score que : \n",
    "    * Le modéle a prédit : \n",
    "        * Pour les mails  : \n",
    "            * 736 mail de 745 (les vrais postifs) => precision => 0.97\n",
    "            * 19 spam en étant des mail (les faux positifs)\n",
    "            * 9 mail en étant des spam (les faux négatifs) => recall = 0.99\n",
    "        * Pour les spams :  \n",
    "            * 558 spam de 577 (les vrais postifs)precision => 0.98\n",
    "            * 9 mail en étant des spam (les faux positifs)\n",
    "            * 19 spam en étant des mail (les faux négatifs)=> recall = 0.97\n",
    "\n",
    "\n",
    "* Vu la quantité de données importantes, les valeurs de la précision, recall et l'accuracy sont trés bonne valeurs qui démontre que le modél est bien entrainer."
   ]
  },
  {
   "cell_type": "markdown",
   "id": "b943a1a3",
   "metadata": {},
   "source": [
    " * average precision & precision recall curve"
   ]
  },
  {
   "cell_type": "code",
   "execution_count": 87,
   "id": "554f0769",
   "metadata": {},
   "outputs": [
    {
     "name": "stdout",
     "output_type": "stream",
     "text": [
      "La valeur de laverage precision est : 0.97\n",
      "La valeur de lair sous la courbe de precision et rappelle est : 0.98\n"
     ]
    }
   ],
   "source": [
    "average_precision_CO = average_precision_score(y_true=y_test_CO, y_score=y_pred_CO)\n",
    "precision_CO, recall_CO, thresholds_CO = precision_recall_curve(y_test_CO, y_pred_CO)\n",
    "auc_precision_recall_CO = auc(recall_CO, precision_CO)\n",
    "print('La valeur de l''average precision est : ''{0:0.2f}'.format(average_precision_CO))\n",
    "print('La valeur de l''air sous la courbe de precision et rappelle est : ''{0:0.2f}'.format(auc_precision_recall_CO))"
   ]
  },
  {
   "cell_type": "code",
   "execution_count": 88,
   "id": "6cf7011d",
   "metadata": {},
   "outputs": [
    {
     "name": "stderr",
     "output_type": "stream",
     "text": [
      "C:\\Users\\LATITUDE\\AppData\\Local\\Programs\\Python\\Python39\\lib\\site-packages\\sklearn\\utils\\deprecation.py:87: FutureWarning: Function plot_precision_recall_curve is deprecated; Function `plot_precision_recall_curve` is deprecated in 1.0 and will be removed in 1.2. Use one of the class methods: PrecisionRecallDisplay.from_predictions or PrecisionRecallDisplay.from_estimator.\n",
      "  warnings.warn(msg, category=FutureWarning)\n"
     ]
    },
    {
     "data": {
      "text/plain": [
       "Text(0.5, 1.0, 'COS Precision-Recall curve: AP=0.97')"
      ]
     },
     "execution_count": 88,
     "metadata": {},
     "output_type": "execute_result"
    },
    {
     "data": {
      "image/png": "[encoded data removed]",
      "text/plain": [
       "<Figure size 432x288 with 1 Axes>"
      ]
     },
     "metadata": {
      "needs_background": "light"
     },
     "output_type": "display_data"
    }
   ],
   "source": [
    "disp = plot_precision_recall_curve(model_CO, X_test_CO, y_test_CO)\n",
    "disp.ax_.set_title('COS Precision-Recall curve: '\n",
    "                   'AP={0:0.2f}'.format(average_precision_CO))"
   ]
  },
  {
   "cell_type": "markdown",
   "id": "e4739a26",
   "metadata": {},
   "source": [
    "* On voit sur la courbe qu'elle est également presque parfaite mais avec un peu plus de bruit prés de 1 que la courbe obtenue par la prediction faite sur les données issues du sur-échantillonage synthetique. "
   ]
  },
  {
   "cell_type": "markdown",
   "id": "1d8af246",
   "metadata": {},
   "source": [
    "## **3 )**"
   ]
  },
  {
   "cell_type": "markdown",
   "id": "04dc5d57",
   "metadata": {},
   "source": [
    "## **Tests to extract the best value of \"sampling_strategy\" for Classique Undersampling**"
   ]
  },
  {
   "cell_type": "code",
   "execution_count": 90,
   "id": "5ba61665",
   "metadata": {},
   "outputs": [],
   "source": [
    "def accuracy_ratio(r):\n",
    "#Définition du modéle de reéchantillonage classique avec le une valeur de ratio entrée en argument de la fonction \n",
    "    rus = RandomUnderSampler(sampling_strategy=r)\n",
    "#Appliquer le reéchantillonage\n",
    "    X_CU, Y_CU = rus.fit_resample(X,df[\"label_num\"])\n",
    "#Partager les données reéchantillonées en train et test set\n",
    "#Appliquer l'entrainement du modél de prédiction \n",
    "#Predir avec ce dérnier et renvoiyer l'accuracy score \n",
    "    X_train_CU, X_test_CU, y_train_CU, y_test_CU = train_test_split(X_CU, Y_CU, test_size = 0.20, random_state = 42)\n",
    "    model_CU.fit(X_train_CU,y_train_CU)\n",
    "    y_pred_CU=model_CU.predict(X_test_CU)\n",
    "    return accuracy_score(y_pred_CU,y_test_CU)"
   ]
  },
  {
   "cell_type": "code",
   "execution_count": 91,
   "id": "7bb9ee9d",
   "metadata": {},
   "outputs": [],
   "source": [
    "#Appliquer la fonction définis ci-dessus pour plusieurs ratio\n",
    "x = [accuracy_ratio(i/10) for i in range(5,11)]\n",
    "y = [(i/10) for i in range(5,11)]"
   ]
  },
  {
   "cell_type": "code",
   "execution_count": 92,
   "id": "8ed8e624",
   "metadata": {},
   "outputs": [
    {
     "data": {
      "text/plain": [
       "Text(0.5, 1.0, '-Accuracy en fonction du racio du rééchantillonage-')"
      ]
     },
     "execution_count": 92,
     "metadata": {},
     "output_type": "execute_result"
    },
    {
     "data": {
      "image/png": "[encoded data removed]",
      "text/plain": [
       "<Figure size 432x288 with 1 Axes>"
      ]
     },
     "metadata": {
      "needs_background": "light"
     },
     "output_type": "display_data"
    }
   ],
   "source": [
    "#Affichage de l'accuracy score en fonctio du ratio \n",
    "plt.plot(y,x, color = 'blue', linestyle = 'solid', linewidth = 2,\n",
    "  markerfacecolor = 'blue', markersize = 5)\n",
    "plt.ylim(0.92, 1)\n",
    "plt.xlabel('ratio reéchantillonge')\n",
    "plt.ylabel('accuracy')\n",
    "\n",
    "plt.title('-Accuracy en fonction du racio du rééchantillonage-')"
   ]
  },
  {
   "cell_type": "markdown",
   "id": "b1a2711a",
   "metadata": {},
   "source": [
    "# **Remarks**"
   ]
  },
  {
   "cell_type": "markdown",
   "id": "6f946c66",
   "metadata": {},
   "source": [
    "* Pour ce modéle on remrque que la meilleure valeur du ratio est de 0.7, donc on prendra la valeur r = 0.7 pour le paramétre ratio lors du reéchantillonage avec ce modéle"
   ]
  },
  {
   "cell_type": "markdown",
   "id": "7e646665",
   "metadata": {},
   "source": [
    "## **Classic Undersampling application**"
   ]
  },
  {
   "cell_type": "code",
   "execution_count": 93,
   "id": "023ebe46",
   "metadata": {},
   "outputs": [
    {
     "name": "stdout",
     "output_type": "stream",
     "text": [
      "taille de x_bal :  3640\n",
      "taille de y_bal :  3640\n"
     ]
    }
   ],
   "source": [
    "#On applique le sous-échantillonage classique avec le ratio = 0.7\n",
    "rus = RandomUnderSampler(sampling_strategy=0.7)\n",
    "X_CU, Y_CU = rus.fit_resample(X,df[\"label_num\"])\n",
    "\n",
    "print (\"taille de x_bal : \",len(X_CU))\n",
    "print (\"taille de y_bal : \",len(Y_CU))"
   ]
  },
  {
   "cell_type": "markdown",
   "id": "9f0b005f",
   "metadata": {},
   "source": [
    "# **Fititing & prediction with Classique Undersampling data**"
   ]
  },
  {
   "cell_type": "code",
   "execution_count": 95,
   "id": "b57fe8ac",
   "metadata": {},
   "outputs": [],
   "source": [
    "#Entrainement et predicition sur les données résultantes du sous-échantillonage classique\n",
    "X_train_CU, X_test_CU, y_train_CU, y_test_CU = train_test_split(X_CU, Y_CU, test_size = 0.20, random_state = 42)\n",
    "model_CU.fit(X_train_CU,y_train_CU)\n",
    "y_pred_CU=model_CU.predict(X_test_CU)"
   ]
  },
  {
   "cell_type": "markdown",
   "id": "38536156",
   "metadata": {},
   "source": [
    "# *Results*"
   ]
  },
  {
   "cell_type": "markdown",
   "id": "c6de4243",
   "metadata": {},
   "source": [
    "* Accuracy"
   ]
  },
  {
   "cell_type": "code",
   "execution_count": 96,
   "id": "bf6f2730",
   "metadata": {},
   "outputs": [
    {
     "name": "stdout",
     "output_type": "stream",
     "text": [
      "Accuracy score for prediction with data resulting by Classic Undersampling data : 0.97\n"
     ]
    }
   ],
   "source": [
    "print(\"Accuracy score for prediction with data resulting by Classic Undersampling data : \"'{0:0.2f}'.format(accuracy_score(y_pred_CU,y_test_CU)))\n"
   ]
  },
  {
   "cell_type": "markdown",
   "id": "4fe126ad",
   "metadata": {},
   "source": [
    " * L'accuracy de ce modéle est légerement moins bonne(1% en moins) en comparant avec l'accuracy obtenue en entrainant les données resultantes des deux modéles de sur-échantillonage "
   ]
  },
  {
   "cell_type": "markdown",
   "id": "dd52dee5",
   "metadata": {},
   "source": [
    "* Confusion matrix"
   ]
  },
  {
   "cell_type": "code",
   "execution_count": 97,
   "id": "8afc716c",
   "metadata": {},
   "outputs": [
    {
     "data": {
      "image/png": "[encoded data removed]",
      "text/plain": [
       "<Figure size 432x288 with 2 Axes>"
      ]
     },
     "metadata": {
      "needs_background": "light"
     },
     "output_type": "display_data"
    }
   ],
   "source": [
    "data = {'y_Actual':    y_test_CU.values,\n",
    "        'y_Predicted': y_pred_CU\n",
    "        }\n",
    "d = pd.DataFrame(data, columns=['y_Actual','y_Predicted'])\n",
    "confusion_matrix = pd.crosstab(d['y_Actual'], d['y_Predicted'], rownames=['True Label'], colnames=['Predicted Label'])\n",
    "sn.heatmap(confusion_matrix, annot=True,fmt='d',xticklabels=['ham','spam'], yticklabels=['ham','spam'])\n",
    "plt.show()"
   ]
  },
  {
   "cell_type": "markdown",
   "id": "e7ae6c85",
   "metadata": {},
   "source": [
    " * Score details"
   ]
  },
  {
   "cell_type": "code",
   "execution_count": 98,
   "id": "44cd9fc4",
   "metadata": {},
   "outputs": [
    {
     "name": "stdout",
     "output_type": "stream",
     "text": [
      "              precision    recall  f1-score   support\n",
      "\n",
      "           0       0.96      0.99      0.97       452\n",
      "           1       0.99      0.92      0.96       276\n",
      "\n",
      "    accuracy                           0.97       728\n",
      "   macro avg       0.97      0.96      0.96       728\n",
      "weighted avg       0.97      0.97      0.97       728\n",
      "\n"
     ]
    }
   ],
   "source": [
    "print (classification_report(y_test_CU, y_pred_CU))"
   ]
  },
  {
   "cell_type": "markdown",
   "id": "1568492d",
   "metadata": {},
   "source": [
    "* On remarque de la matrice de confusion et les détails du score que : \n",
    "    * Le modèle a prédit : \n",
    "        * Pour les mails  : \n",
    "            * 449 mail de 452 (les vrais postifs) => precision => 0.96\n",
    "            * 21 spam en étant des mail (les faux positifs)\n",
    "            * 3 mail en étant des spam (les faux négatifs) => recall = 0.99\n",
    "        * Pour les spams :  \n",
    "            * 255 spam de 276 (les vrais postifs)precision => 0.99\n",
    "            * 3 mail en étant des spam (les faux positifs)\n",
    "            * 21 spam en étant des mail (les faux négatifs)=> recall = 0.92\n",
    "\n",
    "\n",
    "* On remarques qu'avec moins de données, le nombre de mail classé comme spam (vis vers ça) diminue, c'est pourquoi on a obtenue une haute valeur de précision et de recall."
   ]
  },
  {
   "cell_type": "markdown",
   "id": "34eeabd8",
   "metadata": {},
   "source": [
    "* average precision & auc precision recall"
   ]
  },
  {
   "cell_type": "code",
   "execution_count": 99,
   "id": "b2798385",
   "metadata": {},
   "outputs": [
    {
     "name": "stdout",
     "output_type": "stream",
     "text": [
      "La valeur de laverage precision est : 0.94\n",
      "La valeur de lair sous la courbe de precision et rappelle est : 0.97\n"
     ]
    }
   ],
   "source": [
    "average_precision_CU = average_precision_score(y_true=y_test_CU, y_score=y_pred_CU)\n",
    "precision_CU, recall_CU, thresholds_CU = precision_recall_curve(y_test_CU, y_pred_CU)\n",
    "auc_precision_recall_CU = auc(recall_CU, precision_CU)\n",
    "print('La valeur de l''average precision est : ''{0:0.2f}'.format(average_precision_CU))\n",
    "print('La valeur de l''air sous la courbe de precision et rappelle est : ''{0:0.2f}'.format(auc_precision_recall_CU))"
   ]
  },
  {
   "cell_type": "code",
   "execution_count": 100,
   "id": "3664f9e6",
   "metadata": {},
   "outputs": [
    {
     "name": "stderr",
     "output_type": "stream",
     "text": [
      "C:\\Users\\LATITUDE\\AppData\\Local\\Programs\\Python\\Python39\\lib\\site-packages\\sklearn\\utils\\deprecation.py:87: FutureWarning: Function plot_precision_recall_curve is deprecated; Function `plot_precision_recall_curve` is deprecated in 1.0 and will be removed in 1.2. Use one of the class methods: PrecisionRecallDisplay.from_predictions or PrecisionRecallDisplay.from_estimator.\n",
      "  warnings.warn(msg, category=FutureWarning)\n"
     ]
    },
    {
     "data": {
      "text/plain": [
       "Text(0.5, 1.0, 'CSU Precision-Recall curve: AP=0.94')"
      ]
     },
     "execution_count": 100,
     "metadata": {},
     "output_type": "execute_result"
    },
    {
     "data": {
      "image/png": "[encoded data removed]",
      "text/plain": [
       "<Figure size 432x288 with 1 Axes>"
      ]
     },
     "metadata": {
      "needs_background": "light"
     },
     "output_type": "display_data"
    }
   ],
   "source": [
    "disp = plot_precision_recall_curve(model_CU, X_test_CU, y_test_CU)\n",
    "disp.ax_.set_title('CSU Precision-Recall curve: '\n",
    "                   'AP={0:0.2f}'.format(average_precision_CU))"
   ]
  },
  {
   "cell_type": "markdown",
   "id": "9a8a0fb3",
   "metadata": {},
   "source": [
    "* On peut facilement remarquer que la courbe contient beaucoup plus de bruit (des erreurs de precision et rappel) par rapport au deux courbes précédentes, ce qui est logique car les scores obtenus en utilisant les données issues de ce sous-échantillonage classique sont légérement moins bon que ceux obtenues avec les deux précédents modéles."
   ]
  },
  {
   "cell_type": "markdown",
   "id": "803ae97e",
   "metadata": {},
   "source": [
    "## **Results**\n",
    "   "
   ]
  },
  {
   "cell_type": "code",
   "execution_count": 101,
   "id": "9f81eae9",
   "metadata": {},
   "outputs": [
    {
     "data": {
      "image/png": "[encoded data removed]",
      "text/plain": [
       "<Figure size 432x288 with 1 Axes>"
      ]
     },
     "metadata": {
      "needs_background": "light"
     },
     "output_type": "display_data"
    }
   ],
   "source": [
    "plt.plot(recall_SO, precision_SO)\n",
    "plt.plot(recall_CO, precision_CO)\n",
    "plt.plot(recall_CU, precision_CU)\n",
    "plt.show()"
   ]
  },
  {
   "cell_type": "markdown",
   "id": "4f718a65",
   "metadata": {},
   "source": [
    "* On remarque que l'air sous la  courbe de recall et precision du modéle entrainé avec les données reéchantillonées en sur-échantillonage synthetique est plus proche de 1 par rapport au deux autres modéle dévellopés avec les deux autres méthodes de reéchantillonage, ce qui montre que le sur-échantillonage synthetic est la meilleure méthode pour équilibrer les données dans notre cas avec le meilleur ratio = 0.6.\n",
    "* Le premier modèle classe une quantité extrement négligeable de mails étant des spams (4/425). Ce qui fait de lui le modèle d'entrainement et de rééchantillonnage les plus adaptés à notre problème."
   ]
  },
  {
   "cell_type": "markdown",
   "id": "52261077",
   "metadata": {},
   "source": [
    "## **Conclusion**"
   ]
  },
  {
   "cell_type": "markdown",
   "id": "43030f4d",
   "metadata": {},
   "source": [
    "* Vu que : l'accuracy, la precision , le recall, l'air sous la courbe de l'application de classic Oversampling et classic Undersampling sont moins bon par rapport au résultat de l'application du model sur le résultats des données de la méthode synthetic oversampling, on choisie les résultats de cette déniére."
   ]
  }
 ],
 "metadata": {
  "interpreter": {
   "hash": "916dbcbb3f70747c44a77c7bcd40155683ae19c65e1c03b4aa3499c5328201f1"
  },
  "kernelspec": {
   "display_name": "Python 3.8.10 64-bit",
   "name": "python3"
  },
  "language_info": {
   "codemirror_mode": {
    "name": "ipython",
    "version": 3
   },
   "file_extension": ".py",
   "mimetype": "text/x-python",
   "name": "python",
   "nbconvert_exporter": "python",
   "pygments_lexer": "ipython3",
   "version": "3.9.2"
  }
 },
 "nbformat": 4,
 "nbformat_minor": 5
}
